{
 "cells": [
  {
   "cell_type": "code",
   "execution_count": null,
   "id": "086e7b59-8ec5-40df-960b-6f3b99d94dde",
   "metadata": {},
   "outputs": [],
   "source": [
    "import pandas as pd\n",
    "from sklearn.ensemble import RandomForestClassifier\n",
    "from sklearn.model_selection import train_test_split, GridSearchCV\n",
    "from sklearn.metrics import accuracy_score, confusion_matrix"
   ]
  },
  {
   "cell_type": "code",
   "execution_count": null,
   "id": "4903bfc3-c164-4d29-b95d-3d4cab51c81c",
   "metadata": {},
   "outputs": [],
   "source": [
    "adult = pd.read_csv('./data/adult_reconstruction.numeric.csv')"
   ]
  },
  {
   "cell_type": "code",
   "execution_count": null,
   "id": "8affdeb6-f817-4309-b206-542332f028f3",
   "metadata": {},
   "outputs": [],
   "source": [
    "adult.head()"
   ]
  },
  {
   "cell_type": "code",
   "execution_count": null,
   "id": "4a68618c-a4f1-4125-abd9-af7f275cfe2b",
   "metadata": {},
   "outputs": [],
   "source": [
    "adult['label'] = adult['income'] > 50000\n",
    "adult['label'] = adult['label'].astype('int')"
   ]
  },
  {
   "cell_type": "code",
   "execution_count": null,
   "id": "7a62b823-4b57-494c-a8c3-77acc146def3",
   "metadata": {},
   "outputs": [],
   "source": [
    "adult.head()"
   ]
  },
  {
   "cell_type": "code",
   "execution_count": null,
   "id": "8d10fcce-68f5-490d-ac1b-4b5b45c3a1de",
   "metadata": {},
   "outputs": [],
   "source": [
    "X = adult.drop(columns=['label', 'income'])  \n",
    "y = adult['label'] \n",
    "\n",
    "X_train, X_test, y_train, y_test = train_test_split(X, y, test_size=0.33, random_state=42)"
   ]
  },
  {
   "cell_type": "code",
   "execution_count": null,
   "id": "9bbac0c1-fd70-42bf-a203-31c184acc378",
   "metadata": {},
   "outputs": [],
   "source": [
    "model = RandomForestClassifier(n_estimators = 80, max_depth = 3, min_samples_leaf = 4)"
   ]
  },
  {
   "cell_type": "code",
   "execution_count": null,
   "id": "61ae47c8-0143-4352-99c5-a0661c04caac",
   "metadata": {},
   "outputs": [],
   "source": [
    "model.fit(X_train, y_train)"
   ]
  },
  {
   "cell_type": "code",
   "execution_count": null,
   "id": "67a37358-8c7c-4a1f-8667-6bef30447b0e",
   "metadata": {},
   "outputs": [],
   "source": [
    "y_pred = model.predict(X_test)"
   ]
  },
  {
   "cell_type": "code",
   "execution_count": null,
   "id": "27172d86-4940-44c0-b729-9e28a57a4a60",
   "metadata": {},
   "outputs": [],
   "source": [
    "accuracy_score(y_pred, y_test)"
   ]
  },
  {
   "cell_type": "code",
   "execution_count": null,
   "id": "11833c30-3ffd-40e2-8020-6980764a6351",
   "metadata": {},
   "outputs": [],
   "source": [
    "max_depth = np.random.randint(1,8,3)\n",
    "min_samples_leaf = [1,2,3,4]\n",
    "n_estimators = [80,100,120]"
   ]
  },
  {
   "cell_type": "code",
   "execution_count": null,
   "id": "ad75d6d8-8e5a-49f1-bdf3-fb5ed4d5965f",
   "metadata": {},
   "outputs": [],
   "source": [
    "model_collection = {}\n",
    "\n",
    "for i in max_depth:\n",
    "    for j in min_samples_leaf:\n",
    "        for k in n_estimators:\n",
    "            model = RandomForestClassifier(n_estimators = k, max_depth = i, min_samples_leaf = j)\n",
    "            model.fit(X_train, y_train)\n",
    "            y_pred = model.predict(X_train)\n",
    "            model_collection[\"i: {}, j: {}, k: {}\".format(i,j,k)] = accuracy_score(y_pred, y_train)"
   ]
  },
  {
   "cell_type": "code",
   "execution_count": null,
   "id": "16ed606b-152a-4307-9f99-dc073cd09d6a",
   "metadata": {},
   "outputs": [],
   "source": [
    "model_collection"
   ]
  },
  {
   "cell_type": "markdown",
   "id": "e75d21f2-0376-4a35-92ed-842a712e2e6a",
   "metadata": {},
   "source": [
    "Wat is mis met deze aanpak?"
   ]
  },
  {
   "cell_type": "code",
   "execution_count": null,
   "id": "96825b5a-2bb1-4d9f-a1bc-fa09c20431b1",
   "metadata": {},
   "outputs": [],
   "source": [
    "y_pred"
   ]
  },
  {
   "cell_type": "markdown",
   "id": "3ae51ccc-c15c-435d-aefd-2267749da7bb",
   "metadata": {},
   "source": [
    "## Cross validation with SearchGridCV"
   ]
  },
  {
   "cell_type": "code",
   "execution_count": null,
   "id": "3fa7cb61-b892-4749-a261-53420a530f05",
   "metadata": {},
   "outputs": [],
   "source": [
    "rf = RandomForestClassifier(criterion = 'entropy')"
   ]
  },
  {
   "cell_type": "code",
   "execution_count": null,
   "id": "7397e6c3-d2f6-4c1f-af7a-74269c3aabc7",
   "metadata": {},
   "outputs": [],
   "source": [
    "param_grid = {'max_depth': [2,10,None], \n",
    "              'min_samples_leaf': [2,4,6,8],\n",
    "              'max_features': ['auto','sqrt']}"
   ]
  },
  {
   "cell_type": "code",
   "execution_count": null,
   "id": "d662e616-ee43-44d6-aef0-5d647e2d1b63",
   "metadata": {},
   "outputs": [],
   "source": [
    "grid_rf = GridSearchCV(\n",
    "    estimator=rf,\n",
    "    param_grid=param_grid,\n",
    "    scoring='accuracy',\n",
    "    cv=5,\n",
    "    refit=True,\n",
    "    return_train_score=True\n",
    ")"
   ]
  },
  {
   "cell_type": "code",
   "execution_count": null,
   "id": "0d677acc-ca4e-4513-b918-a8828928921c",
   "metadata": {},
   "outputs": [],
   "source": [
    "grid_rf.fit(X_train, y_train)"
   ]
  },
  {
   "cell_type": "code",
   "execution_count": null,
   "id": "7bf955e9-72d1-4242-ae4f-3434af92ee4a",
   "metadata": {},
   "outputs": [],
   "source": [
    "cv_results_df = pd.DataFrame(grid_rf.cv_results_)\n",
    "cv_results_df"
   ]
  },
  {
   "cell_type": "code",
   "execution_count": null,
   "id": "3c87cf7a-89e7-436a-97f6-864b4513ae21",
   "metadata": {},
   "outputs": [],
   "source": [
    "grid_rf.best_score_"
   ]
  },
  {
   "cell_type": "code",
   "execution_count": null,
   "id": "92a146c3-4ef8-416a-86af-d3f10429e6d7",
   "metadata": {},
   "outputs": [],
   "source": [
    "grid_rf."
   ]
  },
  {
   "cell_type": "code",
   "execution_count": null,
   "id": "f49f9cdb-58f9-4db7-a962-f518f81d83f4",
   "metadata": {},
   "outputs": [],
   "source": [
    "best_model = grid_rf.best_estimator_"
   ]
  },
  {
   "cell_type": "code",
   "execution_count": null,
   "id": "2e7b92e6-eadc-4bee-84c9-94a45b18dd29",
   "metadata": {},
   "outputs": [],
   "source": [
    "grid_rf.best_params_"
   ]
  }
 ],
 "metadata": {
  "kernelspec": {
   "display_name": "Python 3 (ipykernel)",
   "language": "python",
   "name": "python3"
  },
  "language_info": {
   "codemirror_mode": {
    "name": "ipython",
    "version": 3
   },
   "file_extension": ".py",
   "mimetype": "text/x-python",
   "name": "python",
   "nbconvert_exporter": "python",
   "pygments_lexer": "ipython3",
   "version": "3.8.2"
  }
 },
 "nbformat": 4,
 "nbformat_minor": 5
}
