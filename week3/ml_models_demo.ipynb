{
 "cells": [
  {
   "cell_type": "code",
   "execution_count": null,
   "id": "8fd453a9-356f-4349-8e50-132be702e242",
   "metadata": {},
   "outputs": [],
   "source": [
    "import pandas as pd\n",
    "import numpy as np\n",
    "\n",
    "import matplotlib.pyplot as plt\n",
    "import seaborn as sns\n",
    "\n",
    "from sklearn.linear_model import LinearRegression\n",
    "from sklearn.model_selection import train_test_split\n",
    "from sklearn.metrics import mean_squared_error, confusion_matrix, ConfusionMatrixDisplay, accuracy_score"
   ]
  },
  {
   "cell_type": "markdown",
   "id": "cbc8d013-97f2-49fa-a2ce-51d86c1ba5b7",
   "metadata": {},
   "source": [
    "# Linear regression"
   ]
  },
  {
   "cell_type": "code",
   "execution_count": null,
   "id": "303b3739-7baa-4d9d-a5bc-8387cdbb8b47",
   "metadata": {},
   "outputs": [],
   "source": [
    "#Create a dataset to demonstrate linear regression"
   ]
  },
  {
   "cell_type": "code",
   "execution_count": null,
   "id": "b43c5646-2b93-4951-bee2-76555dd406e0",
   "metadata": {},
   "outputs": [],
   "source": [
    "x = np.arange(0,10,0.1)"
   ]
  },
  {
   "cell_type": "code",
   "execution_count": null,
   "id": "efdd2800-4e76-4221-b7bf-b038d0fc1be5",
   "metadata": {},
   "outputs": [],
   "source": [
    "x = np.arange(0,10,0.2)\n",
    "delta = np.random.uniform(-1,2, size=(50,))\n",
    "y = 0.7 * x + 1 + delta\n",
    "plt.scatter(x,y,alpha=0.5)"
   ]
  },
  {
   "cell_type": "code",
   "execution_count": null,
   "id": "844d1b3d-e646-45c3-9edc-a3aacb34ecfb",
   "metadata": {},
   "outputs": [],
   "source": [
    "reg = LinearRegression()"
   ]
  },
  {
   "cell_type": "code",
   "execution_count": null,
   "id": "b81ac658-80a1-4bc8-a026-e22c217df6d1",
   "metadata": {},
   "outputs": [],
   "source": [
    "reg.fit(x.reshape(-1,1),y.reshape(-1,1))"
   ]
  },
  {
   "cell_type": "code",
   "execution_count": null,
   "id": "7e60e716-6a8b-4470-abd6-02191ab29d15",
   "metadata": {},
   "outputs": [],
   "source": [
    "x_test = np.arange(0,10,0.1).reshape(-1,1)\n",
    "y_pred = reg.predict(x_test)"
   ]
  },
  {
   "cell_type": "code",
   "execution_count": null,
   "id": "ff636519-6b57-433d-a566-a1bb9d46ed63",
   "metadata": {},
   "outputs": [],
   "source": [
    "plt.scatter(x,y,alpha=0.5)\n",
    "plt.plot(x_test, y_pred, color = 'r')"
   ]
  },
  {
   "cell_type": "code",
   "execution_count": null,
   "id": "bbd61012-9155-40ec-90e9-a7b3e5202054",
   "metadata": {},
   "outputs": [],
   "source": [
    "#non-linear relationship"
   ]
  },
  {
   "cell_type": "code",
   "execution_count": null,
   "id": "820f9bb5-270d-492b-b9f2-b91d150b61b9",
   "metadata": {},
   "outputs": [],
   "source": [
    "delta = np.random.uniform(-3,5, size=(50,))\n",
    "y= (x - 1) * (x-5)*(x-9)  + delta"
   ]
  },
  {
   "cell_type": "code",
   "execution_count": null,
   "id": "99a0824e-fcbf-4d28-959f-64c1a7fe1c26",
   "metadata": {},
   "outputs": [],
   "source": [
    "plt.scatter(x,y, alpha = 0.5)"
   ]
  },
  {
   "cell_type": "code",
   "execution_count": null,
   "id": "63e4cf85-b5e0-4d1b-9303-daf04217e32d",
   "metadata": {},
   "outputs": [],
   "source": [
    "poly_df = pd.DataFrame({'x':x, 'x2':x*x, 'x3':x*x*x})"
   ]
  },
  {
   "cell_type": "code",
   "execution_count": null,
   "id": "c4696b9d-630c-41a9-b17e-4f2932ca9f2f",
   "metadata": {},
   "outputs": [],
   "source": [
    "poly_df.head()"
   ]
  },
  {
   "cell_type": "code",
   "execution_count": null,
   "id": "b67c8928-9d7c-4e61-9465-a6833a51ca44",
   "metadata": {},
   "outputs": [],
   "source": [
    "polyreg = LinearRegression()"
   ]
  },
  {
   "cell_type": "code",
   "execution_count": null,
   "id": "de8ad19a-33f8-448d-b4dc-6741702cebf8",
   "metadata": {},
   "outputs": [],
   "source": [
    "polyreg.fit(poly_df, y)"
   ]
  },
  {
   "cell_type": "code",
   "execution_count": null,
   "id": "2aadc515-7e53-48ae-b288-aff41310fc4f",
   "metadata": {},
   "outputs": [],
   "source": [
    "y_pred = polyreg.predict(poly_df)"
   ]
  },
  {
   "cell_type": "code",
   "execution_count": null,
   "id": "5c012ec8-8121-49c5-8239-b9c663ee5955",
   "metadata": {},
   "outputs": [],
   "source": [
    "plt.scatter(x,y, alpha = 0.5)\n",
    "plt.plot(x,y_pred, color = 'r')"
   ]
  },
  {
   "cell_type": "code",
   "execution_count": null,
   "id": "bccb697c-375c-408e-91cf-8cd3bc8e3d94",
   "metadata": {},
   "outputs": [],
   "source": [
    "np.sqrt(mean_squared_error(y, y_pred))"
   ]
  },
  {
   "cell_type": "markdown",
   "id": "651f6376-9035-4dce-8dd6-64c06d8a62b0",
   "metadata": {},
   "source": [
    "## Linear regression"
   ]
  },
  {
   "cell_type": "markdown",
   "id": "fe3f00ad-ad30-4537-8e8a-deace1703be6",
   "metadata": {},
   "source": [
    "We gaan een lineair regressie model trainen op een echte dataset"
   ]
  },
  {
   "cell_type": "code",
   "execution_count": null,
   "id": "0f4283b8-9a3f-450e-b7d1-b6b3658b4ab9",
   "metadata": {},
   "outputs": [],
   "source": [
    "houseprice = pd.read_csv('../data/housing_prices.csv')"
   ]
  },
  {
   "cell_type": "code",
   "execution_count": null,
   "id": "801c9c2b-eae1-4620-8ab9-25bc39998b59",
   "metadata": {},
   "outputs": [],
   "source": [
    "houseprice.head()"
   ]
  },
  {
   "cell_type": "code",
   "execution_count": null,
   "id": "a4be1a01-5d70-45af-b8dc-e691f18126f9",
   "metadata": {},
   "outputs": [],
   "source": [
    "#Eerst printen we de kolommen, dan kunnen we goed zien wat we willen gebruiken\n",
    "houseprice.columns"
   ]
  },
  {
   "cell_type": "code",
   "execution_count": null,
   "id": "6f69bd24-0959-48ac-b73a-aa0c45cb46cf",
   "metadata": {},
   "outputs": [],
   "source": [
    "houseprice['price'].describe()"
   ]
  },
  {
   "cell_type": "code",
   "execution_count": null,
   "id": "43c01fdb-1a60-42b0-a829-3b82452a4242",
   "metadata": {},
   "outputs": [],
   "source": [
    "sns.pairplot(houseprice[['bedrooms', 'bathrooms', 'sqft_living',\n",
    "       'sqft_lot', 'floors','price']])"
   ]
  },
  {
   "cell_type": "code",
   "execution_count": null,
   "id": "0bb4a37c-caa8-4466-8243-623a4eaab55a",
   "metadata": {},
   "outputs": [],
   "source": [
    "plt.scatter(houseprice['bedrooms'], houseprice['price'])"
   ]
  },
  {
   "cell_type": "code",
   "execution_count": null,
   "id": "f6dbb52b-e811-4a28-b6c6-197387232a1b",
   "metadata": {},
   "outputs": [],
   "source": [
    "plt.scatter(houseprice['bathrooms'], houseprice['price'])"
   ]
  },
  {
   "cell_type": "code",
   "execution_count": null,
   "id": "8cb7f7ec-a5f4-4fc1-8f4c-bb031362e2cf",
   "metadata": {},
   "outputs": [],
   "source": [
    "plt.scatter(houseprice['sqft_above'], houseprice['price'])"
   ]
  },
  {
   "cell_type": "code",
   "execution_count": null,
   "id": "a98c3696-18aa-4cfd-a498-e3a42606e5ee",
   "metadata": {},
   "outputs": [],
   "source": [
    "plt.scatter(houseprice['floors'], houseprice['price'])"
   ]
  },
  {
   "cell_type": "markdown",
   "id": "7173cbe8-e992-4056-a162-d9cc8d61c74d",
   "metadata": {},
   "source": [
    "We definieren het dataframe X met alle onafhankele variabelen (of features) en y met de afhankelijke variabele (of de target)."
   ]
  },
  {
   "cell_type": "code",
   "execution_count": null,
   "id": "f6f8a601-2d21-45ce-bb78-2360a8fb0e8b",
   "metadata": {},
   "outputs": [],
   "source": [
    "#Eerst printen we de kolommen, dan kunnen we goed zien wat we willen gebruiken\n",
    "houseprice.columns"
   ]
  },
  {
   "cell_type": "code",
   "execution_count": null,
   "id": "5b34808a-f8e6-4f87-82e3-9df702806f0e",
   "metadata": {},
   "outputs": [],
   "source": [
    "X = houseprice[['bedrooms', 'bathrooms', 'sqft_living',\n",
    "       'sqft_lot', 'floors']]\n",
    "y = houseprice['price']"
   ]
  },
  {
   "cell_type": "markdown",
   "id": "9b9dbfed-f23b-4eec-b3ff-66d2d7b99000",
   "metadata": {},
   "source": [
    "We gebruiken train_test_split van sklearn om dit te splitten in een train en test set, zie: https://scikit-learn.org/stable/modules/generated/sklearn.model_selection.train_test_split.html"
   ]
  },
  {
   "cell_type": "code",
   "execution_count": null,
   "id": "b65f4cad-cbf9-495f-a827-7f7384f5b4ef",
   "metadata": {},
   "outputs": [],
   "source": [
    "X_train, X_test, y_train, y_test = train_test_split(X, y, test_size=0.33, random_state = 42)"
   ]
  },
  {
   "cell_type": "code",
   "execution_count": null,
   "id": "cfa0d687-0f1e-4a2c-984c-9593d88f3b63",
   "metadata": {
    "tags": []
   },
   "outputs": [],
   "source": [
    "reg = LinearRegression()"
   ]
  },
  {
   "cell_type": "code",
   "execution_count": null,
   "id": "df32ddbb-c762-4574-adc2-09d8e5b5a74a",
   "metadata": {
    "tags": []
   },
   "outputs": [],
   "source": [
    "reg.fit(X_train,y_train)"
   ]
  },
  {
   "cell_type": "code",
   "execution_count": null,
   "id": "52129c6c-2a65-4336-b588-0665ac899811",
   "metadata": {},
   "outputs": [],
   "source": [
    "y_pred = reg.predict(X_test)"
   ]
  },
  {
   "cell_type": "code",
   "execution_count": null,
   "id": "9f1429ac-6e28-428a-a5bc-a652c1b00f43",
   "metadata": {},
   "outputs": [],
   "source": [
    "np.sqrt(mean_squared_error(y_test, y_pred))"
   ]
  },
  {
   "cell_type": "code",
   "execution_count": null,
   "id": "f365e480-b99f-456e-a4af-cb046a8944a3",
   "metadata": {},
   "outputs": [],
   "source": [
    "reg.coef_"
   ]
  },
  {
   "cell_type": "code",
   "execution_count": null,
   "id": "53ea3f62-8ab1-4be4-9430-5278df1cd260",
   "metadata": {},
   "outputs": [],
   "source": [
    "#Linear regression with statsmodels"
   ]
  },
  {
   "cell_type": "code",
   "execution_count": null,
   "id": "3ce636b3-8b11-4b81-ae57-3836553f2fcb",
   "metadata": {},
   "outputs": [],
   "source": [
    "import statsmodels.api as sm\n",
    "\n",
    "X = sm.add_constant(X) #add an intercept \n",
    "model2 = sm.OLS(y, X)\n",
    "results2 = model2.fit()\n",
    "print(results2.summary())  "
   ]
  },
  {
   "cell_type": "code",
   "execution_count": null,
   "id": "a8c046d8-0052-41a8-8199-0f8764eeb2d6",
   "metadata": {},
   "outputs": [],
   "source": [
    "X_ = houseprice[['bedrooms', 'bathrooms', 'sqft_living',\n",
    "       'sqft_lot']]\n",
    "y = houseprice['price']"
   ]
  },
  {
   "cell_type": "code",
   "execution_count": null,
   "id": "8b0e3b73-307d-428e-919b-d34f8c411edc",
   "metadata": {
    "tags": []
   },
   "outputs": [],
   "source": [
    "X_train, X_test, y_train, y_test = train_test_split(X, y, test_size=0.33, random_state = 42)"
   ]
  },
  {
   "cell_type": "code",
   "execution_count": null,
   "id": "77a39d72-adfe-43c8-b9cb-9302ac443462",
   "metadata": {
    "tags": []
   },
   "outputs": [],
   "source": [
    "reg.fit(X_train,y_train)"
   ]
  },
  {
   "cell_type": "code",
   "execution_count": null,
   "id": "e1bb5d3f-4b3d-4e85-80df-bcc4ed26abfd",
   "metadata": {
    "tags": []
   },
   "outputs": [],
   "source": [
    "reg.fit(X_train,y_train)"
   ]
  },
  {
   "cell_type": "code",
   "execution_count": null,
   "id": "a39802a1-d30d-4fc3-82e4-a01937e14071",
   "metadata": {},
   "outputs": [],
   "source": [
    "y_pred = reg.predict(X_test)"
   ]
  },
  {
   "cell_type": "code",
   "execution_count": null,
   "id": "b21bebe1-2d9f-4f91-8026-74ac3b76b568",
   "metadata": {},
   "outputs": [],
   "source": [
    "np.sqrt(mean_squared_error(y_test, y_pred))"
   ]
  },
  {
   "cell_type": "markdown",
   "id": "2c8f5ce7-c217-4abc-b633-a4a286764c9f",
   "metadata": {},
   "source": [
    "# Decision Trees\n",
    "\n",
    "\n",
    "## Data preparation"
   ]
  },
  {
   "cell_type": "code",
   "execution_count": null,
   "id": "ff9f520e-0048-4021-8398-1d3df1b093c2",
   "metadata": {},
   "outputs": [],
   "source": [
    "from sklearn.tree import DecisionTreeClassifier, plot_tree\n",
    "from sklearn.ensemble import RandomForestClassifier\n"
   ]
  },
  {
   "cell_type": "markdown",
   "id": "43aff7a1-1ac0-40ce-a483-460d9b79cf9e",
   "metadata": {},
   "source": [
    "First we load the preprocessed, numeric data and derive the binary target variable."
   ]
  },
  {
   "cell_type": "code",
   "execution_count": null,
   "id": "98760947-d76d-4bc8-b9f0-2235180b252e",
   "metadata": {},
   "outputs": [],
   "source": [
    "df = pd.read_csv(\"../data/adult_reconstruction.numeric.csv\")\n",
    "df.head()"
   ]
  },
  {
   "cell_type": "code",
   "execution_count": null,
   "id": "eeed147d-d210-4969-9335-5d16f96efbb3",
   "metadata": {},
   "outputs": [],
   "source": [
    "df[\"income_above_50K\"] = df[\"income\"] > 50_000\n",
    "\n",
    "# the resulting cell values are booleans, we convert them to integers (0 or 1)\n",
    "df[\"income_above_50K\"] = df[\"income_above_50K\"].astype(int)\n",
    "\n",
    "del df[\"income\"]\n",
    "df.head()"
   ]
  },
  {
   "cell_type": "code",
   "execution_count": null,
   "id": "3244003c-a47c-4a99-a0a5-1e4ab99871f1",
   "metadata": {},
   "outputs": [],
   "source": [
    "X = df.drop(columns=[\"income_above_50K\"])  # numpy array without the outcome variable\n",
    "y = df[\"income_above_50K\"]  # numpy array with the outcome variable only\n",
    "\n",
    "X_train, X_test, y_train, y_test = train_test_split(X, y, test_size=0.33, random_state=42)"
   ]
  },
  {
   "cell_type": "markdown",
   "id": "c0a59a1b-0d42-4c34-acc7-4357eb52a526",
   "metadata": {},
   "source": [
    "## A simple Decision Tree\n",
    "\n",
    "For this we use the standard sklearn implementation, thus the API is very straightforward (create an instance of the classifier, fit and predict).\n",
    "\n",
    "In case of a single tree, we can also plot the structure."
   ]
  },
  {
   "cell_type": "code",
   "execution_count": null,
   "id": "400b0003-5257-43dd-b94d-c47ecb134373",
   "metadata": {},
   "outputs": [],
   "source": [
    "model = DecisionTreeClassifier(max_depth=3, random_state=42)\n",
    "model.fit(X_train, y_train)\n",
    "\n",
    "plt.figure(figsize=(10, 10))\n",
    "_ = plot_tree(model, feature_names=df.columns[:-1], filled=True)"
   ]
  },
  {
   "cell_type": "code",
   "execution_count": null,
   "id": "9e5ddb11-d3cc-4337-b698-8c47139c4f4d",
   "metadata": {},
   "outputs": [],
   "source": [
    "y_pred = model.predict(X_test)"
   ]
  },
  {
   "cell_type": "code",
   "execution_count": null,
   "id": "1e123ea6-b7cb-4a42-b423-b3335db16f77",
   "metadata": {},
   "outputs": [],
   "source": [
    "cm = confusion_matrix(y_test, y_pred)"
   ]
  },
  {
   "cell_type": "code",
   "execution_count": null,
   "id": "6f4e932e-d402-49c1-a948-50a0fe25fec5",
   "metadata": {},
   "outputs": [],
   "source": [
    "ConfusionMatrixDisplay(cm).plot()"
   ]
  },
  {
   "cell_type": "code",
   "execution_count": null,
   "id": "9ceaf85f-6a68-4fd4-ba3c-9edb8d419073",
   "metadata": {},
   "outputs": [],
   "source": [
    "accuracy_score(y_test,y_pred)"
   ]
  },
  {
   "cell_type": "markdown",
   "id": "6cc5fbd0-0d1d-4a91-974d-20f26aee2eb8",
   "metadata": {},
   "source": [
    "## Random Forest"
   ]
  },
  {
   "cell_type": "markdown",
   "id": "d9259565-2c4a-41d5-8625-9a67e05e26ef",
   "metadata": {},
   "source": [
    "The use of a random forest classifier is just as simple with sklearn, the only thing that has to be change is the initialization of the model."
   ]
  },
  {
   "cell_type": "code",
   "execution_count": null,
   "id": "61df10e0-02e6-46f1-bf06-7de4546f3436",
   "metadata": {},
   "outputs": [],
   "source": [
    "rfc = RandomForestClassifier(n_estimators=100, random_state=42)\n",
    "rfc.fit(X_train, y_train)"
   ]
  },
  {
   "cell_type": "code",
   "execution_count": null,
   "id": "887b0184-7751-490b-80bb-87e4b57e3cd3",
   "metadata": {},
   "outputs": [],
   "source": [
    "y_pred = rfc.predict(X_test)"
   ]
  },
  {
   "cell_type": "code",
   "execution_count": null,
   "id": "b2f23194-0b07-4755-b8ed-e9f46f36c79b",
   "metadata": {},
   "outputs": [],
   "source": [
    "cm = confusion_matrix(y_test, y_pred)"
   ]
  },
  {
   "cell_type": "code",
   "execution_count": null,
   "id": "7333f87c-d4c4-456a-8325-eb87d0881934",
   "metadata": {},
   "outputs": [],
   "source": [
    "ConfusionMatrixDisplay(cm).plot()"
   ]
  },
  {
   "cell_type": "code",
   "execution_count": null,
   "id": "d9e3de4c-b8b9-4be9-9da1-80c7eb9cfde7",
   "metadata": {},
   "outputs": [],
   "source": [
    "accuracy_score(y_test, y_pred)"
   ]
  },
  {
   "cell_type": "markdown",
   "id": "df1c9d0f-1bcb-4b8f-8854-1f599d3b5ab1",
   "metadata": {},
   "source": [
    "Here we have multiple tree grouped into a forest object, but the individual trees can still be accessed."
   ]
  },
  {
   "cell_type": "code",
   "execution_count": null,
   "id": "5ca3e33f-bea7-4297-a626-95feb66297d4",
   "metadata": {},
   "outputs": [],
   "source": [
    "# we redefine the classifier with the max depth of 3 in order to make the plotting of the first tree sensible\n",
    "rfc_md3 = RandomForestClassifier(n_estimators=100, random_state=42, max_depth=3)\n",
    "rfc_md3.fit(X_train, y_train)\n",
    "single_tree = rfc_md3.estimators_[0]\n",
    "plt.figure(figsize=(20, 20))\n",
    "_ = plot_tree(single_tree)"
   ]
  },
  {
   "cell_type": "code",
   "execution_count": null,
   "id": "b91a48d3-97bf-4cc2-8521-e854a03a0096",
   "metadata": {},
   "outputs": [],
   "source": [
    "rfc.feature_importances_"
   ]
  },
  {
   "cell_type": "code",
   "execution_count": null,
   "id": "f1fc40f5-cddb-4308-a5c0-4be5b6bd6d08",
   "metadata": {},
   "outputs": [],
   "source": [
    "plt.bar(X_train.columns, rfc.feature_importances_)"
   ]
  },
  {
   "cell_type": "code",
   "execution_count": null,
   "id": "8c4e4d07-27fc-4279-b24d-ad02e542e582",
   "metadata": {},
   "outputs": [],
   "source": [
    "plt.figure(figsize=(15, 15))\n",
    "plt.xticks(rotation=45)\n",
    "plt.bar(X_train.columns, rfc.feature_importances_)"
   ]
  },
  {
   "cell_type": "markdown",
   "id": "c66d6af1-25cc-4b4f-a97d-c83a53390a91",
   "metadata": {},
   "source": [
    "# Logistic Regression"
   ]
  },
  {
   "cell_type": "code",
   "execution_count": null,
   "id": "274b0e03-6e50-4152-a9fd-8943cb435db1",
   "metadata": {},
   "outputs": [],
   "source": [
    "from sklearn.linear_model import LogisticRegression"
   ]
  },
  {
   "cell_type": "code",
   "execution_count": null,
   "id": "3997c07d-c9ec-47f3-84af-408b89bb9528",
   "metadata": {},
   "outputs": [],
   "source": [
    "lg = LogisticRegression()\n"
   ]
  },
  {
   "cell_type": "code",
   "execution_count": null,
   "id": "aa232ddb-ffc7-4e2c-953c-f5c6a79c105f",
   "metadata": {},
   "outputs": [],
   "source": [
    "lg.fit(X_train, y_train)"
   ]
  },
  {
   "cell_type": "code",
   "execution_count": null,
   "id": "6cb23774-e4f5-43ce-b430-d1d74782a751",
   "metadata": {},
   "outputs": [],
   "source": [
    "from sklearn.preprocessing import StandardScaler"
   ]
  },
  {
   "cell_type": "code",
   "execution_count": null,
   "id": "7bafeb8c-3f24-4bac-a6aa-c45484ff5978",
   "metadata": {},
   "outputs": [],
   "source": [
    "scaler = StandardScaler()"
   ]
  },
  {
   "cell_type": "code",
   "execution_count": null,
   "id": "f21f3232-c7f5-4b54-87da-57b936678ce6",
   "metadata": {},
   "outputs": [],
   "source": [
    "scaler.fit(X_train)"
   ]
  },
  {
   "cell_type": "code",
   "execution_count": null,
   "id": "63460994-8bad-42f1-bb49-2cb20c27f335",
   "metadata": {},
   "outputs": [],
   "source": [
    "lg.fit(scaler.transform(X_train),y_train)"
   ]
  },
  {
   "cell_type": "code",
   "execution_count": null,
   "id": "c9411bd2-dcff-4b62-bf63-281db0c6738a",
   "metadata": {},
   "outputs": [],
   "source": [
    "scaler.fit(X_test)"
   ]
  },
  {
   "cell_type": "code",
   "execution_count": null,
   "id": "a36e3fdd-4c96-4444-9b20-12fa9bcb4ba1",
   "metadata": {},
   "outputs": [],
   "source": [
    "y_pred = lg.predict(scaler.transform(X_test))"
   ]
  },
  {
   "cell_type": "code",
   "execution_count": null,
   "id": "4541cee2-a5ce-47de-8beb-b850009d7618",
   "metadata": {},
   "outputs": [],
   "source": [
    "cm = confusion_matrix(y_test, y_pred)"
   ]
  },
  {
   "cell_type": "code",
   "execution_count": null,
   "id": "a19b5904-dfff-4b29-9858-d6039a1bc569",
   "metadata": {},
   "outputs": [],
   "source": [
    "ConfusionMatrixDisplay(cm).plot()"
   ]
  },
  {
   "cell_type": "code",
   "execution_count": null,
   "id": "f715b87a-4659-46b6-8477-7d6742333d72",
   "metadata": {},
   "outputs": [],
   "source": [
    "accuracy_score(y_test, y_pred)"
   ]
  },
  {
   "cell_type": "code",
   "execution_count": null,
   "id": "bccd9d57-f00a-4739-82a8-0e32b06e70e6",
   "metadata": {},
   "outputs": [],
   "source": []
  }
 ],
 "metadata": {
  "kernelspec": {
   "display_name": "Python 3 (ipykernel)",
   "language": "python",
   "name": "python3"
  },
  "language_info": {
   "codemirror_mode": {
    "name": "ipython",
    "version": 3
   },
   "file_extension": ".py",
   "mimetype": "text/x-python",
   "name": "python",
   "nbconvert_exporter": "python",
   "pygments_lexer": "ipython3",
   "version": "3.8.2"
  }
 },
 "nbformat": 4,
 "nbformat_minor": 5
}
