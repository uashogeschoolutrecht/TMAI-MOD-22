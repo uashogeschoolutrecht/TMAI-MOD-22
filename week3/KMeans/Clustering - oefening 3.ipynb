{
 "cells": [
  {
   "cell_type": "markdown",
   "metadata": {},
   "source": [
    "# CM10 - Clustering - oefening 3 Iris dataset\n",
    "In deze dataset staan 150 bloemen van het Iris-soort. Voor drie 'species' (setosa, versicolor en virginica) zijn 50 bloemen gegeven met diverse eigenschappen: `sepal length`, `sepal width`, `petal length` en `petal width`. Het uiteindelijke doel is om met behulp van de eigenschappen de klasse `specie` te bepalen.\n",
    "\n",
    "Deze dataset wordt voor gebruikt voor classificatie. Met behulp van kNN of een decision tree kun je heel goed de klasse voorspellen op basis van de 4 features. Wij gaan de dataset nu gebruiken voor clustering. We gaan onderzoeken of de 3 gegeven klasses logisch zijn, of dat er eigenlijk 2 of 4 klasses zouden moeten zijn."
   ]
  },
  {
   "cell_type": "markdown",
   "metadata": {},
   "source": [
    "## Importeren van Iris-dataset\n",
    "\n",
    "Voordat je aan de opgaves kunt beginnen, moet je eerst de Iris-dataset kunnen inladen/hebben ingeladen."
   ]
  },
  {
   "cell_type": "code",
   "execution_count": null,
   "metadata": {},
   "outputs": [],
   "source": [
    "import pandas as pd                                        # DataFrame-functionaliteit\n",
    "import numpy as np                                         # Converteren van DataBunch\n",
    "import matplotlib.pyplot as plt                            # Plotten van grafieken\n",
    "\n",
    "from sklearn import datasets                               # Bevat de Iris-dataset\n",
    "from sklearn.model_selection import train_test_split       # Opsplitsen Train/Test\n",
    "from sklearn.linear_model import LinearRegression          # Lineaire regressie\n",
    "from sklearn.cluster import KMeans                         # K-Means clustering\n",
    "from sklearn.neighbors import KNeighborsClassifier         # K-NearestNeighbors classifier\n",
    "from sklearn.metrics import accuracy_score                 # Meassuring accuracy\n",
    "\n",
    "%matplotlib notebook"
   ]
  },
  {
   "cell_type": "code",
   "execution_count": null,
   "metadata": {},
   "outputs": [],
   "source": [
    "# De specie is een klasse 0, 1 of 2\n",
    "\n",
    "irisBunch = datasets.load_iris()\n",
    "iris = pd.DataFrame(data= np.c_[irisBunch['data'], irisBunch['target']],\n",
    "                     columns= irisBunch['feature_names'] + ['species'])\n",
    "iris.head()"
   ]
  },
  {
   "cell_type": "markdown",
   "metadata": {},
   "source": [
    "## Opdracht 1. Clustering kMeans vergelijken met klasses\n",
    "\n",
    "In deze opgave moet je op de Iris-dataset data mining gaan toepassen met behulp van het kMeans-algoritme. De Iris-dataset bestaat uit 3 x 50 sets aan data over de volgende planten: _Iris setosa_, _Iris versicolor_ en _Iris virginica_. Met behulp van die 50 sets aan data is het mogelijk te classificeren welke plantensoort het is aan de hand van zijn data.\n",
    "\n",
    "In deze opdracht gaan we kijken of de gegeven classes ook te bepalen zijn met behulp van een clusteringalgoritme. In de praktijk is dit nutteloos, maar het toont wel de werking van clusteringalgoritmes aan. "
   ]
  },
  {
   "cell_type": "markdown",
   "metadata": {},
   "source": [
    "Gebruik `KMeans` om clusters te zoeken binnen de Iris-dataset. Omdat we weten dat er drie classes zijn, beginnen we met `k` = 3. "
   ]
  },
  {
   "cell_type": "code",
   "execution_count": null,
   "metadata": {
    "tags": [
     "student"
    ]
   },
   "outputs": [],
   "source": []
  },
  {
   "cell_type": "markdown",
   "metadata": {},
   "source": [
    "kMeans heeft de Iris-data nu geclusterd: elk van de 150 planten is gekoppeld aan 1 van de 3 clusters. Check of deze clustering overeenkomt met de gegeven species.\n",
    "\n",
    "- Toon eerst de gevonden clusters\n",
    "- Toon daarna de gegeven species\n",
    "- Bepaal hoeveel procent overeen komt\n",
    "    - **Merk op**: je moet ongeveer op 89% uitkomen, anders is er iets mis gegaan"
   ]
  },
  {
   "cell_type": "code",
   "execution_count": null,
   "metadata": {
    "tags": [
     "student"
    ]
   },
   "outputs": [],
   "source": []
  },
  {
   "cell_type": "code",
   "execution_count": null,
   "metadata": {
    "tags": [
     "student"
    ]
   },
   "outputs": [],
   "source": []
  },
  {
   "cell_type": "code",
   "execution_count": null,
   "metadata": {
    "tags": [
     "student"
    ]
   },
   "outputs": [],
   "source": []
  },
  {
   "cell_type": "markdown",
   "metadata": {},
   "source": [
    "## Opdracht 2. Clustering GMM vergelijken met klasses\n",
    "\n",
    "Doe hetzelfde, maar dan nu met gebruik van Gaussian Mixture Models. Is de accuracy nu hoger?"
   ]
  },
  {
   "cell_type": "code",
   "execution_count": null,
   "metadata": {
    "tags": [
     "student"
    ]
   },
   "outputs": [],
   "source": []
  },
  {
   "cell_type": "markdown",
   "metadata": {},
   "source": [
    "## Opdracht 3. Zijn er meer of minder dan drie klasses?!\n",
    "\n",
    "Laten we even terug in de tijd gaan, voordat er bepaald was dat er drie verschillende Irissen zijn. *Iemand* heeft ooit handmatig bepaald dat er drie species zijn, namelijk Setosa, Versicolor en Virginica. Maar had je dat ook met behulp van *unsupervised learning* kunnen bepalen?\n",
    "\n",
    "Voer een kMeans clustering uit voor `k` = 1 t/m 20 en bepaal voor elke `k` de `score` van de clustering. Je zult zien dat hoe groter `k` is, hoe beter de score wordt. Maar kijk naar het punt waar de *knik* zit, dat is de optimale `k`. Is dat `k` of zijn er in de praktijk eigenlijk minder of meer classes van Irissen? "
   ]
  },
  {
   "cell_type": "code",
   "execution_count": null,
   "metadata": {
    "tags": [
     "student"
    ]
   },
   "outputs": [],
   "source": []
  },
  {
   "cell_type": "markdown",
   "metadata": {},
   "source": [
    "Voer voor `GaussianMixture` ook de analyse uit voor welke `k` de score optimaal is. Is dat een andere waarde dan bij `KMeans`?"
   ]
  },
  {
   "cell_type": "code",
   "execution_count": null,
   "metadata": {
    "tags": [
     "student"
    ]
   },
   "outputs": [],
   "source": []
  }
 ],
 "metadata": {
  "anaconda-cloud": {},
  "celltoolbar": "Tags",
  "kernelspec": {
   "display_name": "Python 3 (ipykernel)",
   "language": "python",
   "name": "python3"
  },
  "language_info": {
   "codemirror_mode": {
    "name": "ipython",
    "version": 3
   },
   "file_extension": ".py",
   "mimetype": "text/x-python",
   "name": "python",
   "nbconvert_exporter": "python",
   "pygments_lexer": "ipython3",
   "version": "3.8.2"
  }
 },
 "nbformat": 4,
 "nbformat_minor": 4
}
