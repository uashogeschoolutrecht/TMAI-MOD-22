{
 "cells": [
  {
   "cell_type": "markdown",
   "id": "f3d2d59d-37a2-496b-887d-e52821fe02b6",
   "metadata": {},
   "source": [
    "# Introductie pandas - Uitwerkingen\n",
    "Hieronder staan mogelijke uitwerkingen voor de opdrachten uit het notebook introductie_pandas. Je zult mogelijk de paden naar gebruikte data moeten veranderen zodat het werkt in jouw folderstructuur. \n",
    "\n",
    "Ga eerst zelf met de opdrachten aan de slag en kijk pas hier als je wilt controleren of je het goed gedaan hebt of als je écht niet verder kunt. Ik raad je aan om altijd eerst te kijken of je online de informatie kunt vinden die je nodig hebt. Dit is hoe data scientisten ook werken. Als je iets wilt programmeren maar de juiste code niet weet, dan ga je kijken of je het online kunt vinden, bijvoorbeeld in de documentatie, op stackoverflow of in een blog. \n",
    "\n",
    "Wil je bijvoorbeeld het gemiddelde van een kolom vinden, google dan (bijvoorbeeld) op 'pandas calcalute mean column'. Zorg dat je altijd Python of pandas (of een ander package waar je mee werkt) in je zoekopdracht zet.\n",
    "\n",
    "Merk op dat er (bijna) altijd meerdere juiste oplossingen zijn. Als je iets anders gedaan hebt dan in dit notebook, maar wel het juiste antwoord hebt gevonden, is het ook goed! En vraag het na tijdens de les bij twijfel!"
   ]
  },
  {
   "cell_type": "markdown",
   "id": "bf3a9dab-7a47-4b98-b96f-1c6f4630fba7",
   "metadata": {},
   "source": [
    "### Opdrachten bij tutorial 1 - Uitwerkingen"
   ]
  },
  {
   "cell_type": "code",
   "execution_count": null,
   "id": "5b0b5102-2921-47a4-9b4e-84f54e72280b",
   "metadata": {},
   "outputs": [],
   "source": [
    "import pandas as pd"
   ]
  },
  {
   "cell_type": "code",
   "execution_count": null,
   "id": "3a367c66-ec71-4e6d-85cc-340d73712be4",
   "metadata": {},
   "outputs": [],
   "source": [
    "cijfers_df = pd.DataFrame({\"Studentnummer\": [302341, 314345, 374232, 352352], \"Opdracht\": [5.5, 6.2, 7.1, 9.3], \n",
    "                          \"Tentamen\": [6.1, 4.2, 8.3, 7.8], \"Geslaagd\": [\"Ja\", \"Nee\", \"Ja\", \"Ja\"]})"
   ]
  },
  {
   "cell_type": "code",
   "execution_count": null,
   "id": "2a616eaa-1026-40e3-9256-5c0771403170",
   "metadata": {},
   "outputs": [],
   "source": [
    "cijfers_df"
   ]
  },
  {
   "cell_type": "markdown",
   "id": "7978f17b-2add-422d-9708-2b3514394c54",
   "metadata": {},
   "source": [
    "### Opdrachten bij tutorial 2 - uitwerkingen"
   ]
  },
  {
   "cell_type": "code",
   "execution_count": null,
   "id": "18e82462-d594-41ea-b290-ea588aa4d70a",
   "metadata": {},
   "outputs": [],
   "source": [
    "# Opdracht 1\n",
    "vgsales = pd.read_csv('../data/vgsales.csv')"
   ]
  },
  {
   "cell_type": "code",
   "execution_count": null,
   "id": "a8c37461-aff1-402c-8ff4-9c61cbd02e75",
   "metadata": {},
   "outputs": [],
   "source": [
    "#Opdracht 2\n",
    "vgsales.head(5)"
   ]
  },
  {
   "cell_type": "code",
   "execution_count": null,
   "id": "dfc7338b-9b80-42c8-915b-e0b410327eaf",
   "metadata": {},
   "outputs": [],
   "source": [
    "#Opdracht 3\n",
    "vgsales.tail(10)"
   ]
  },
  {
   "cell_type": "code",
   "execution_count": null,
   "id": "262ca858-aab2-4dec-b62d-d8e26f2fb7bf",
   "metadata": {},
   "outputs": [],
   "source": [
    "#Oprdracht 4\n",
    "vgsales.dtypes"
   ]
  },
  {
   "cell_type": "code",
   "execution_count": null,
   "id": "7e8ad11f-789d-4564-8329-c52227cd28b7",
   "metadata": {},
   "outputs": [],
   "source": [
    "#Opdracht 5\n",
    "vgsales.info()"
   ]
  },
  {
   "cell_type": "markdown",
   "id": "4ded97d7-8271-4228-a3ea-4a25d0d349ef",
   "metadata": {},
   "source": [
    "We zien dat Year, Genre en Publisher null-values bevatten."
   ]
  },
  {
   "cell_type": "code",
   "execution_count": null,
   "id": "692e8be8-15b9-4e69-a77c-a315bcfd18d6",
   "metadata": {},
   "outputs": [],
   "source": [
    "# Opdracht 6\n",
    "vgsales.to_csv('/path/to/home/vgsales.xlsx', sheet_name=\"vgsales\", index=False)"
   ]
  },
  {
   "cell_type": "markdown",
   "id": "8c008f28-0e3c-4d9c-9721-8fd88677769c",
   "metadata": {},
   "source": [
    "### Opdrachten bij tutorial 3 - Uitwerkingen"
   ]
  },
  {
   "cell_type": "code",
   "execution_count": null,
   "id": "fed135cc-3a45-4d57-9e23-4f338e5a167e",
   "metadata": {},
   "outputs": [],
   "source": [
    "#Opdracht 1\n",
    "vgsales_EU = vgsales[\"EU_Sales\"]\n",
    "vgsales_EU.head()"
   ]
  },
  {
   "cell_type": "code",
   "execution_count": null,
   "id": "00a7bd6f-2ea4-40d3-b90f-10dbdfc0292e",
   "metadata": {},
   "outputs": [],
   "source": [
    "#Opdracht 2\n",
    "vgsales_Year_not_null = vgsales[vgsales[\"Year\"].notna()]\n",
    "vgsales_Year_not_null.head()"
   ]
  },
  {
   "cell_type": "code",
   "execution_count": null,
   "id": "e7740066-e7ce-4595-b2b5-8237427460a1",
   "metadata": {},
   "outputs": [],
   "source": [
    "#Opdracht 3\n",
    "vgsales_more_10 = vgsales[vgsales[\"Global_Sales\"] > 10 ]\n",
    "vgsales_more_10.head()"
   ]
  },
  {
   "cell_type": "code",
   "execution_count": null,
   "id": "cbb41d92-e790-4367-8be6-882ea0fa362d",
   "metadata": {},
   "outputs": [],
   "source": [
    "#Opdracht 4\n",
    "vgsales_less_05 = vgsales[vgsales[\"Global_Sales\"] < 0.5]\n",
    "vgsales_less_05.shape"
   ]
  },
  {
   "cell_type": "markdown",
   "id": "566a75fe-0ca3-450f-9aa7-04c806a327e0",
   "metadata": {},
   "source": [
    "Er zijn dus 12580 games waarvoor de Global Sales lager was dan een half miljoen"
   ]
  },
  {
   "cell_type": "code",
   "execution_count": null,
   "id": "86289300-9ee7-48a6-b486-27709ae5bfaf",
   "metadata": {},
   "outputs": [],
   "source": [
    "#Oprdracht 5\n",
    "vgsales_selection = vgsales.iloc[14:50, 1:6]\n",
    "vgsales_selection"
   ]
  },
  {
   "cell_type": "code",
   "execution_count": null,
   "id": "46a7b17c-80c7-410b-b4b7-bd120325b322",
   "metadata": {},
   "outputs": [],
   "source": [
    "#Opdracht 6\n",
    "vgsales_2006 = vgsales[vgsales[\"Year\"]==2006]\n",
    "vgsales_2006 = vgsales_2006.sort_values('EU_Sales', ascending=False)\n",
    "vgsales_2006.head()"
   ]
  },
  {
   "cell_type": "code",
   "execution_count": null,
   "id": "ceb55f0c-8360-47ba-ac1e-5ed9fd239a6d",
   "metadata": {},
   "outputs": [],
   "source": [
    "#Opdracht 7\n",
    "vgsales_Nintendo_2008 = vgsales[(vgsales[\"Publisher\"]==\"Nintendo\") & (vgsales[\"Year\"]==2008) & (vgsales[\"Genre\"]==\"Racing\")]\n",
    "vgsales_Nintendo_2008"
   ]
  },
  {
   "cell_type": "markdown",
   "id": "340ba767-cdd9-4a13-949f-5756b0932202",
   "metadata": {},
   "source": [
    "Dat is er maar 1, alleen Mario Kart Wii"
   ]
  },
  {
   "cell_type": "markdown",
   "id": "1fb7da13-0985-41f2-9849-1cf47125fd45",
   "metadata": {},
   "source": [
    "### Opdrachten bij tutorial 4 - uitwerkingen"
   ]
  },
  {
   "cell_type": "code",
   "execution_count": null,
   "id": "eb36f86d-c4a6-4953-82ab-4a48d7c0bd56",
   "metadata": {},
   "outputs": [],
   "source": [
    "#Opdracht 1\n",
    "vgsales[\"Total_Sales\"] = vgsales[\"EU_Sales\"] + vgsales[\"NA_Sales\"] + vgsales[\"JP_Sales\"] + vgsales[\"Other_Sales\"]"
   ]
  },
  {
   "cell_type": "markdown",
   "id": "799bb0a1-1984-4861-a516-14c1bdcbe6a6",
   "metadata": {},
   "source": [
    "Om te controleren of Total_Sales gelijk is aan Global_Sales kunnen we een Serie van booleans maken, die per rij aangeven of ze gelijk zijn aan elkaar:"
   ]
  },
  {
   "cell_type": "code",
   "execution_count": null,
   "id": "7f8208ea-aedf-407d-baf9-fde33941924c",
   "metadata": {},
   "outputs": [],
   "source": [
    "vgsales[\"Total_Sales\"] == vgsales[\"Global_Sales\"]"
   ]
  },
  {
   "cell_type": "markdown",
   "id": "21083e85-050e-4e54-9791-920953924d3b",
   "metadata": {},
   "source": [
    "We kunnen dit gebruiken om die rijen uit het dataframe te selecteren waar ze ook daadwerkelijk gelijk zijn:"
   ]
  },
  {
   "cell_type": "code",
   "execution_count": null,
   "id": "51ff1470-a2c1-49b0-9fa9-3f524226ed3a",
   "metadata": {},
   "outputs": [],
   "source": [
    "vgsales[vgsales[\"Total_Sales\"] == vgsales[\"Global_Sales\"]]"
   ]
  },
  {
   "cell_type": "markdown",
   "id": "3131f9da-8161-49b0-874f-342bb149bce9",
   "metadata": {},
   "source": [
    "We zien dat ze in 9826 van de rijen gelijk zijn, en in de andere dus niet."
   ]
  },
  {
   "cell_type": "code",
   "execution_count": null,
   "id": "36ccf5ae-2c55-4f4f-9ee6-f6d0c1783f42",
   "metadata": {},
   "outputs": [],
   "source": [
    "#Opdracht 2"
   ]
  },
  {
   "cell_type": "markdown",
   "id": "57218de7-cc00-48c9-8bd3-50b751153b43",
   "metadata": {},
   "source": [
    "Om het aantal bins te bekijken kijken we eerst wat het maximum is van EU_Sales"
   ]
  },
  {
   "cell_type": "code",
   "execution_count": null,
   "id": "6ac1c1b4-f56c-4537-8ce3-ed2d43308dfb",
   "metadata": {},
   "outputs": [],
   "source": [
    "vgsales['EU_Sales'].max()"
   ]
  },
  {
   "cell_type": "code",
   "execution_count": null,
   "id": "ab1594dc-d682-4d07-b2d5-30449be8e783",
   "metadata": {},
   "outputs": [],
   "source": [
    "bins = [0,5,10,15,20,25,30]\n",
    "vgsales['EU_Sales_bins'] = pd.cut(vgsales['EU_Sales'], bins = bins)"
   ]
  },
  {
   "cell_type": "markdown",
   "id": "3a9b049d-f5ab-4174-83d6-cec0276e8841",
   "metadata": {},
   "source": [
    "## Opdrachten bij tutorial 5 - Uitwerkingen"
   ]
  },
  {
   "cell_type": "code",
   "execution_count": null,
   "id": "7cf584a6-cb09-4aeb-9cbc-f1e183195cf3",
   "metadata": {},
   "outputs": [],
   "source": [
    "#Opdracht 1 \n",
    "vgsales.describe()"
   ]
  },
  {
   "cell_type": "markdown",
   "id": "d9ca927f-44c0-4da2-8d27-f18d20e9f2db",
   "metadata": {},
   "source": [
    "We zien dat het gemiddelde van EU_Sales 0.146652 miljoen is"
   ]
  },
  {
   "cell_type": "code",
   "execution_count": null,
   "id": "58f8dadd-9de8-42c2-8704-a31158380d56",
   "metadata": {},
   "outputs": [],
   "source": [
    "#Opdracht 2\n",
    "vgsales[(vgsales[\"Publisher\"]==\"Electronic Arts\") & (vgsales[\"Year\"]==2010)].mean()"
   ]
  },
  {
   "cell_type": "markdown",
   "id": "1b9f653d-3494-4807-97c6-1fead1f50244",
   "metadata": {},
   "source": [
    "We zien dat het gemiddelde 0.924773 miljoen is."
   ]
  },
  {
   "cell_type": "code",
   "execution_count": null,
   "id": "f0df8d72-7fbc-4f6b-8f07-920e77ba7e3e",
   "metadata": {},
   "outputs": [],
   "source": [
    "#Opdracht 3\n",
    "vgsales[(vgsales[\"Year\"]==2016) & (vgsales[\"Publisher\"]==\"Nintendo\")][\"Global_Sales\"].sum()"
   ]
  },
  {
   "cell_type": "markdown",
   "id": "2c1862cc-0de2-47ac-9ef1-78853ca7d8b5",
   "metadata": {},
   "source": [
    "Dus voor 3,47 miljoen."
   ]
  },
  {
   "cell_type": "code",
   "execution_count": null,
   "id": "67b7d5dc-cdd5-4fb6-a866-a5137dabe26d",
   "metadata": {},
   "outputs": [],
   "source": [
    "#Opdracht 4\n",
    "vgsales.sort_values(by=\"Global_Sales\", ascending=False).head()"
   ]
  },
  {
   "cell_type": "markdown",
   "id": "885a760a-67f6-4e06-a422-2596da770333",
   "metadata": {},
   "source": [
    "Dat is Wii Sports."
   ]
  },
  {
   "cell_type": "code",
   "execution_count": null,
   "id": "a8ff77cd-245b-4b5f-8e1d-ef0e1c22922f",
   "metadata": {},
   "outputs": [],
   "source": [
    "#Opdracht 5\n",
    "vgsales_1985 = vgsales[vgsales[\"Year\"]==1985]\n",
    "vgsales_1985_EUSales_not_zero = vgsales_1985[vgsales_1985[\"EU_Sales\"] > 0]"
   ]
  },
  {
   "cell_type": "code",
   "execution_count": null,
   "id": "71525b70-1030-4354-b3e1-6068e89a01cc",
   "metadata": {},
   "outputs": [],
   "source": [
    "vgsales_1985_EUSales_not_zero.sort_values('EU_Sales')"
   ]
  },
  {
   "cell_type": "markdown",
   "id": "bf79b8a2-f330-42e2-929d-91d53bb53025",
   "metadata": {},
   "source": [
    "We zien een gedeelde laatste plek voor *Ghostbusters* en *Alter Ego*."
   ]
  },
  {
   "cell_type": "markdown",
   "id": "5ddfca20-4bf1-443e-ae12-616837ccf906",
   "metadata": {},
   "source": [
    "## Opdrachten bij tutorial 6 - Uitwerkingen"
   ]
  },
  {
   "cell_type": "markdown",
   "id": "b9eca7c8-338b-42f0-977f-aaca6a1ef566",
   "metadata": {},
   "source": [
    "### Opracht 1\n",
    "Maak een DataFrame waarin we van alle klanten first_name en last_name zien, en het amount van alle betalingen die ze gedaan hebben. Klanten die nooit een betaling hebben gedaan willen we niet zien."
   ]
  },
  {
   "cell_type": "code",
   "execution_count": null,
   "id": "05a490aa-8096-4959-92fb-6753d663cd9c",
   "metadata": {},
   "outputs": [],
   "source": [
    "import pandas as pd\n",
    "payment = pd.read_csv('../data/dvdrental/payment.csv')\n",
    "customer = pd.read_csv('../data/dvdrental/customer.csv')\n",
    "\n",
    "customer_amount_df = customer.merge(payment, how=\"inner\", on=\"customer_id\")[[\"first_name\", \"last_name\", \"amount\"]]\n",
    "customer_amount_df.head(20)"
   ]
  },
  {
   "cell_type": "markdown",
   "id": "f3c9c624-f60d-4957-9737-90cfe8727a7b",
   "metadata": {},
   "source": [
    "### Opdracht 2\n",
    "Voer een join uit om te zien of er films in de inventory zijn die nooit verhuurd zijn. Welke titels horen daarbij?"
   ]
  },
  {
   "cell_type": "code",
   "execution_count": null,
   "id": "15208b0b-d096-41d6-9a9a-597d4dd95595",
   "metadata": {},
   "outputs": [],
   "source": [
    "inventory = pd.read_csv('../data/dvdrental/inventory.csv')\n",
    "rental = pd.read_csv('../data/dvdrental/rental.csv')\n",
    "film = pd.read_csv('../data/dvdrental/film.csv', sep=\";\")\n",
    "\n",
    "inventory_film_join = inventory.merge(rental, on=\"inventory_id\", how = \"left\")\n",
    "nooit_gehuurd = inventory_film_join[inventory_film_join[\"rental_id\"].isna()]\n",
    "nooit_gehuurd"
   ]
  },
  {
   "cell_type": "code",
   "execution_count": null,
   "id": "dc834ef7-59ea-420e-8c3f-7110b6e87dd1",
   "metadata": {},
   "outputs": [],
   "source": [
    "#Bekijk welke titel bij film_id==1 hoort\n",
    "film[film[\"film_id\"]==1][\"title\"]"
   ]
  },
  {
   "cell_type": "markdown",
   "id": "4f703112-d9f3-404b-a2f3-8b9c96b07715",
   "metadata": {},
   "source": [
    "### Opdracht 3\n",
    "Maak een DataFrame als in opdracht 1, maar dan met first_name, last_name en title van alle films die een klant gehuurd heeft, op alfabetische volgorde van last_name. Zorg dat bij klanten met dezelfde achternaam first_name op alfabetische volgorde staat."
   ]
  },
  {
   "cell_type": "code",
   "execution_count": null,
   "id": "311e3958-45a5-465e-aea6-bf12f8c86464",
   "metadata": {},
   "outputs": [],
   "source": [
    "\n",
    "joined_df = customer.merge(rental, how = \"inner\", on=\"customer_id\")\n",
    "joined_df = joined_df.merge(inventory, how = \"left\", on = \"inventory_id\")\n",
    "joined_df = joined_df.merge(film, how = \"left\", on = \"film_id\")\n",
    "\n",
    "name_film_df = joined_df[[\"first_name\", \"last_name\", \"title\"]].sort_values(by=[\"last_name\", \"first_name\"])\n",
    "name_film_df.head(100)"
   ]
  },
  {
   "cell_type": "markdown",
   "id": "c8521eb8-b768-400c-975b-4b0fe0104ae9",
   "metadata": {},
   "source": [
    "## Opdrachten bij tutorial 1 - uitwerkingen"
   ]
  },
  {
   "cell_type": "code",
   "execution_count": null,
   "id": "265b07e9-549b-4021-a486-5d3c06fdef48",
   "metadata": {},
   "outputs": [],
   "source": [
    "import pandas as pd"
   ]
  },
  {
   "cell_type": "code",
   "execution_count": null,
   "id": "e342503a-1062-498a-b0a2-8f8c718a8c3f",
   "metadata": {},
   "outputs": [],
   "source": [
    "vgsales = pd.read_csv('../data/vgsales.csv')"
   ]
  },
  {
   "cell_type": "code",
   "execution_count": null,
   "id": "1fed5958-24cc-4239-9615-26d967ab5c26",
   "metadata": {},
   "outputs": [],
   "source": [
    "vgsales.head()"
   ]
  },
  {
   "cell_type": "code",
   "execution_count": null,
   "id": "14ee4f7e-b757-4a77-b8b9-e966c5e58acf",
   "metadata": {},
   "outputs": [],
   "source": [
    "#Opdracht 1\n",
    "vgsales_per_publisher = vgsales.groupby('Publisher').agg({'Name':'size'}).reset_index()"
   ]
  },
  {
   "cell_type": "code",
   "execution_count": null,
   "id": "dec2a427-3f17-4b75-b898-588d056e75cf",
   "metadata": {},
   "outputs": [],
   "source": [
    "vgsales_per_publisher.columns = ['Publisher','Number_of_games']"
   ]
  },
  {
   "cell_type": "code",
   "execution_count": null,
   "id": "2cd1fd5e-3042-4e64-8fc4-ca5a6a6e398c",
   "metadata": {},
   "outputs": [],
   "source": [
    "vgsales_per_publisher = vgsales_per_publisher.sort_values('Number_of_games', ascending = False)"
   ]
  },
  {
   "cell_type": "code",
   "execution_count": null,
   "id": "a5a1aab4-f262-496e-bd90-1b88572dd803",
   "metadata": {},
   "outputs": [],
   "source": [
    "#Opdracht 2\n",
    "vgsales_per_genre = vgsales.groupby('Genre').agg({'Global_Sales':'sum'}).reset_index()"
   ]
  },
  {
   "cell_type": "code",
   "execution_count": null,
   "id": "57bc4220-a3cd-40cb-a883-4fae3bfb358b",
   "metadata": {},
   "outputs": [],
   "source": [
    "vgsales_per_genre = vgsales_per_genre.sort_values('Global_Sales',ascending = False)"
   ]
  },
  {
   "cell_type": "code",
   "execution_count": null,
   "id": "c3bdc526-3dfc-4a11-aebb-c186feedbba2",
   "metadata": {},
   "outputs": [],
   "source": [
    "vgsales_per_genre.head()"
   ]
  },
  {
   "cell_type": "code",
   "execution_count": null,
   "id": "399471e7-debd-46ee-a53d-fbece314068b",
   "metadata": {},
   "outputs": [],
   "source": [
    "#Opdracht 3\n",
    "vgsales_2009 = vgsales[vgsales[\"Year\"]==2009]\n",
    "vgsales_2009_grouped = vgsales_2009.groupby(\"Genre\").agg({'JP_Sales':'sum', 'EU_Sales':'sum'}).reset_index()"
   ]
  },
  {
   "cell_type": "code",
   "execution_count": null,
   "id": "d4564607-38f4-49de-ba43-e225f6cd7527",
   "metadata": {},
   "outputs": [],
   "source": [
    "vgsales_2009_grouped.sort_values('JP_Sales', ascending = False)"
   ]
  },
  {
   "cell_type": "markdown",
   "id": "c578cc8b-1e1b-4ce0-9988-1f507506b0c7",
   "metadata": {},
   "source": [
    "Role-Playing leverde in Japen het meeste op, 17.07 miljoen. Gevolgd door Action met 39.2 miljoen."
   ]
  },
  {
   "cell_type": "code",
   "execution_count": null,
   "id": "16acbbdc-8d14-4432-91be-cfab1fe439ea",
   "metadata": {},
   "outputs": [],
   "source": [
    "vgsales_2009_grouped.sort_values('EU_Sales', ascending = False)"
   ]
  },
  {
   "cell_type": "markdown",
   "id": "ec87046a-40e6-41ca-b58c-49bb15134627",
   "metadata": {},
   "source": [
    "In Europa leverde het genre Sports het meeste op, ook hier gevolgd door Action."
   ]
  },
  {
   "cell_type": "markdown",
   "id": "a5721ad3-c497-41b9-be02-0e715c53365c",
   "metadata": {},
   "source": [
    "## Opdrachten bij tutorial 2 - Uitwerkingen"
   ]
  },
  {
   "cell_type": "code",
   "execution_count": null,
   "id": "eac958f3-0698-44bd-84db-a9d00e20b68c",
   "metadata": {},
   "outputs": [],
   "source": [
    "import pandas as pd"
   ]
  },
  {
   "cell_type": "code",
   "execution_count": null,
   "id": "9458d035-d440-4ca8-826e-0f1ac9160166",
   "metadata": {},
   "outputs": [],
   "source": [
    "#Opdracht 1\n",
    "vgsales = pd.read_csv('../data/vgsales.csv')\n",
    "vgsales_sorted = vgsales.sort_values(by=\"Year\")\n",
    "vgsales_sorted[[\"Year\",\"NA_Sales\", \"EU_Sales\", \"JP_Sales\", \"Other_Sales\"]].plot(x=\"Year\", subplots=True)"
   ]
  },
  {
   "cell_type": "markdown",
   "id": "f5412c9a-10b0-43c9-a374-c526abf08425",
   "metadata": {},
   "source": [
    "In het jaar 2006 zit bij alle 4 de grafieken een piek. Waarschijnlijk was er één spel dat erg goed verkocht. Laten we eens kijken hoe dit kan."
   ]
  },
  {
   "cell_type": "code",
   "execution_count": null,
   "id": "c6cd0392-c655-4443-9d2f-6181996ba849",
   "metadata": {},
   "outputs": [],
   "source": [
    "vgsales[vgsales[\"Year\"]==2006].sort_values(by=\"Global_Sales\", ascending=False).head()"
   ]
  },
  {
   "cell_type": "markdown",
   "id": "eaccb096-cf54-4809-ab90-33d5ccf02652",
   "metadata": {},
   "source": [
    "Deze piek is veroorzaakt door Nintendo Wii"
   ]
  },
  {
   "cell_type": "code",
   "execution_count": null,
   "id": "2de6790e-4aba-4944-81d1-8ec77354bec2",
   "metadata": {},
   "outputs": [],
   "source": [
    "#opdracht 2\n",
    "vgsales[vgsales[\"Year\"]==2008].plot.scatter(x=\"NA_Sales\", y=\"EU_Sales\", alpha=0.5)"
   ]
  },
  {
   "cell_type": "code",
   "execution_count": null,
   "id": "879a4ddb-6d52-43aa-9ea3-69214d223629",
   "metadata": {},
   "outputs": [],
   "source": [
    "#opdracht 3\n",
    "vgsales_genre = vgsales[vgsales[\"Year\"]==2010].groupby(\"Genre\").sum()\n",
    "vgsales_genre.plot.bar(y=[\"Global_Sales\"])"
   ]
  },
  {
   "cell_type": "markdown",
   "id": "db2669d6-a59e-48ae-93bb-7bd7f81e7647",
   "metadata": {},
   "source": [
    "### Opdracht 4\n",
    "Doe hetzelfde als hierboven maar laat voor ieder sales regio een aparte bar zien."
   ]
  },
  {
   "cell_type": "code",
   "execution_count": null,
   "id": "45f1f535-f772-4a02-aa58-b1c27c3d2948",
   "metadata": {},
   "outputs": [],
   "source": [
    "vgsales_genre.plot.bar(y=[\"NA_Sales\", \"EU_Sales\", \"JP_Sales\", \"Other_Sales\"])"
   ]
  },
  {
   "cell_type": "markdown",
   "id": "f48fd49e-3d00-4d4b-9cbf-7d0fc212ab76",
   "metadata": {},
   "source": [
    "## Tutorial 3: missing values - uitwerkingen"
   ]
  },
  {
   "cell_type": "markdown",
   "id": "6905486a-1b94-4989-b4bb-ec76f236c827",
   "metadata": {},
   "source": [
    "### Opdracht 1"
   ]
  },
  {
   "cell_type": "code",
   "execution_count": null,
   "id": "eb8d000f-95a7-45dd-b844-8110748a9d90",
   "metadata": {},
   "outputs": [],
   "source": [
    "diamonds = pd.read_csv('../data/diamonds.csv')"
   ]
  },
  {
   "cell_type": "code",
   "execution_count": null,
   "id": "a362b5f5-c403-4217-9f0d-f427dfc5bf53",
   "metadata": {},
   "outputs": [],
   "source": [
    "diamonds[diamonds['carat'].isna()]"
   ]
  },
  {
   "cell_type": "markdown",
   "id": "c3f89625-dddd-4980-bbc1-4f311da2972d",
   "metadata": {},
   "source": [
    "### Opdracht 2"
   ]
  },
  {
   "cell_type": "code",
   "execution_count": null,
   "id": "430a9efb-0d65-417c-b713-ee618bd75b2b",
   "metadata": {},
   "outputs": [],
   "source": [
    "diamonds[diamonds['price'].isna()]"
   ]
  },
  {
   "cell_type": "markdown",
   "id": "83edad0c-ce2d-4f17-b61e-26efe2cb46a7",
   "metadata": {},
   "source": [
    "### Opdracht 3"
   ]
  },
  {
   "cell_type": "code",
   "execution_count": null,
   "id": "500d45bc-592f-4453-802d-4a27ce70d552",
   "metadata": {},
   "outputs": [],
   "source": [
    "diamonds_nona = diamonds.dropna()"
   ]
  },
  {
   "cell_type": "code",
   "execution_count": null,
   "id": "af06e1c9-7aa0-490a-8e35-7d8cb739bcf3",
   "metadata": {},
   "outputs": [],
   "source": [
    "diamonds_nona.info()"
   ]
  },
  {
   "cell_type": "markdown",
   "id": "213e9a51-8468-441c-8fd3-b72a6b127b9d",
   "metadata": {},
   "source": [
    "### Opdracht 4"
   ]
  },
  {
   "cell_type": "code",
   "execution_count": null,
   "id": "af41ccd8-7130-48aa-87af-6439205a297f",
   "metadata": {},
   "outputs": [],
   "source": [
    "#deze kopieren we van opdracht 3 - anders is diamonds_filtered nog niet gedefineerd\n",
    "diamonds_filtered = diamonds[~diamonds['carat'].isna()]"
   ]
  },
  {
   "cell_type": "code",
   "execution_count": null,
   "id": "6baae33c-a49c-42d1-9e90-e1a888fded5e",
   "metadata": {},
   "outputs": [],
   "source": [
    "diamonds_filtered = diamonds_filtered[~diamonds_filtered['x'].isna()]"
   ]
  },
  {
   "cell_type": "markdown",
   "id": "dd78fd87-b891-42ab-a3bc-68eeda960bf9",
   "metadata": {},
   "source": [
    "### Opdracht 5"
   ]
  },
  {
   "cell_type": "code",
   "execution_count": null,
   "id": "d7d03b17-ef5d-4b93-b3a1-eac6e2e0113f",
   "metadata": {},
   "outputs": [],
   "source": [
    "median_carat = diamonds['carat'].median()\n",
    "diamonds['carat'] = diamonds['carat'].fillna(median_carat)"
   ]
  },
  {
   "cell_type": "code",
   "execution_count": null,
   "id": "de42356d-8e4f-4014-b66f-31cd9fe45162",
   "metadata": {},
   "outputs": [],
   "source": [
    "diamonds.info()"
   ]
  },
  {
   "cell_type": "markdown",
   "id": "96eb4efb-caaa-444c-9b54-78f649f194f4",
   "metadata": {},
   "source": [
    "### Opdracht 6"
   ]
  },
  {
   "cell_type": "code",
   "execution_count": null,
   "id": "26fe396f-7d12-43f5-8230-9e7f9b3826c3",
   "metadata": {},
   "outputs": [],
   "source": [
    "diamonds['cut'] = diamonds['cut'].fillna('cut unkown')"
   ]
  },
  {
   "cell_type": "markdown",
   "id": "a7ec8499-f2d9-4d20-976a-379769a30ab8",
   "metadata": {},
   "source": [
    "### Opdracht 7"
   ]
  },
  {
   "cell_type": "code",
   "execution_count": null,
   "id": "baaeae16-58bc-4191-84fd-8cd98d6902f0",
   "metadata": {},
   "outputs": [],
   "source": [
    "#bijvoorbeeld\n",
    "diamonds['x'] = diamonds['x'].fillna(diamonds['x'].mean())"
   ]
  },
  {
   "cell_type": "markdown",
   "id": "52c06974-9477-4c83-a382-e2ea89a29bdc",
   "metadata": {},
   "source": [
    "## Tutorial 4: outliers - uitwerkingen"
   ]
  },
  {
   "cell_type": "markdown",
   "id": "8b34be70-7113-45de-b1d5-61145cc4cc5d",
   "metadata": {},
   "source": [
    "## Opdracht 1"
   ]
  },
  {
   "cell_type": "code",
   "execution_count": null,
   "id": "52e7371f-35ee-4759-b31a-809c02c41b15",
   "metadata": {},
   "outputs": [],
   "source": [
    "diamonds = pd.read_csv('../data/diamonds.csv')"
   ]
  },
  {
   "cell_type": "code",
   "execution_count": null,
   "id": "32d56279-8fb7-478c-aba0-3d86ca6b8be0",
   "metadata": {},
   "outputs": [],
   "source": [
    "diamonds.boxplot('carat')"
   ]
  },
  {
   "cell_type": "markdown",
   "id": "b4512bd7-7f5a-4690-8980-8b19f1dcf709",
   "metadata": {},
   "source": [
    "We zien dat bijna alle waarden in het interval [40-80] liggen."
   ]
  },
  {
   "cell_type": "markdown",
   "id": "dec6f2a6-c1bb-4078-ab0c-b61494ba4de4",
   "metadata": {},
   "source": [
    "## Opdracht 2"
   ]
  },
  {
   "cell_type": "code",
   "execution_count": null,
   "id": "6e1bb004-9f61-4cb4-8d23-51e24253a4b6",
   "metadata": {},
   "outputs": [],
   "source": [
    "Q3 = diamonds['depth'].quantile(0.75)\n",
    "Q1 = diamonds['depth'].quantile(0.25)\n",
    "IQR = Q3 - Q1\n",
    "lower_bound = Q1 - 1.5*IQR\n",
    "upper_bound = Q3 + 1.5*IQR"
   ]
  },
  {
   "cell_type": "code",
   "execution_count": null,
   "id": "3e894051-d349-4190-8f69-3270ff36bfd3",
   "metadata": {},
   "outputs": [],
   "source": [
    "#Eerst een check of er outliers zijn:\n",
    "diamonds[(diamonds['depth'] < lower_bound) | (diamonds['depth'] > upper_bound)]"
   ]
  },
  {
   "cell_type": "markdown",
   "id": "1c03d9db-eb77-4a85-89ef-039ac18f0a00",
   "metadata": {},
   "source": [
    "Met de IQR methode komen er 2547 outliers naar boven, dat lijkt niet waarschijnlijk. In de boxplot, maar ook met behulp van .describe() kunnen we zien dat Q1 en Q3 heel dicht bij elkaar liggen, waardoor de upper en lower bound ook erg dicht bij elkaar liggen. Waarschijnlijk is deze methode dus te streng. Daarom verwijderen we alleen de outliers die uit de boxplot naar voren kwamen. Dus de rijen met depth kleiner dan 20 of groter dan 80."
   ]
  },
  {
   "cell_type": "markdown",
   "id": "ed48b522-eb90-4728-b4ae-fb6e4231451f",
   "metadata": {},
   "source": [
    "Eerst even kijken welke dat zijn:"
   ]
  },
  {
   "cell_type": "code",
   "execution_count": null,
   "id": "080dfc55-bbea-4776-8670-a395e9d23bfd",
   "metadata": {},
   "outputs": [],
   "source": [
    "diamonds[(diamonds['depth'] > 80) | (diamonds['depth'] < 20)]"
   ]
  },
  {
   "cell_type": "markdown",
   "id": "7e26d170-28b9-4ba0-a028-517f6296d533",
   "metadata": {},
   "source": [
    "En nu filteren we ze eruit:"
   ]
  },
  {
   "cell_type": "code",
   "execution_count": null,
   "id": "8e2b38c2-fc1d-42d4-8e66-2edb75b3f86a",
   "metadata": {},
   "outputs": [],
   "source": [
    "diamonds = diamonds[(diamonds['depth'] < 80) & (diamonds['depth'] > 20)]"
   ]
  },
  {
   "cell_type": "markdown",
   "id": "5f17f31c-ebda-4907-be6a-91f1af2af97d",
   "metadata": {},
   "source": [
    "We kijken met een boxplot of het gelukt is:"
   ]
  },
  {
   "cell_type": "code",
   "execution_count": null,
   "id": "30e30df8-ceaa-46ff-9fe8-45c1bc5fb960",
   "metadata": {},
   "outputs": [],
   "source": [
    "diamonds.boxplot('depth')"
   ]
  },
  {
   "cell_type": "markdown",
   "id": "97ccb86a-a75b-4ae2-b728-bd1f41f9d4d9",
   "metadata": {},
   "source": [
    "### Opdracht 3"
   ]
  },
  {
   "cell_type": "code",
   "execution_count": null,
   "id": "3553f4d3-95e9-4a0b-81a5-e59c314a9eb5",
   "metadata": {},
   "outputs": [],
   "source": [
    "diamonds.boxplot('x')"
   ]
  },
  {
   "cell_type": "code",
   "execution_count": null,
   "id": "57a68a83-cd65-4247-958d-c42eec397e5b",
   "metadata": {},
   "outputs": [],
   "source": [
    "diamonds.describe()"
   ]
  },
  {
   "cell_type": "markdown",
   "id": "8ff2d6e6-84d9-4c66-a1c2-15d7eee103a3",
   "metadata": {},
   "source": [
    "We zien dat er waarden zijn met x=0, terwijl x de lengte van de diamant in mm is. Dat kan dus niet. Laten we kijken welke rijen dat zijn:"
   ]
  },
  {
   "cell_type": "code",
   "execution_count": null,
   "id": "176b6196-f57b-43df-9b3b-53f8f8fe575b",
   "metadata": {},
   "outputs": [],
   "source": [
    "diamonds[diamonds['x']==0]"
   ]
  },
  {
   "cell_type": "markdown",
   "id": "803f4587-3363-4b7f-a74e-f366c70c8ec2",
   "metadata": {},
   "source": [
    "Het zijn er gelukkig niet al te veel, dus we verliezen niet teveel data als we ze verwijderen (let op: het hangt weer helemaal van je doel af wat je het beste met dit soort data kan doen.)"
   ]
  },
  {
   "cell_type": "code",
   "execution_count": null,
   "id": "1d08c60d-1a1c-4b80-9d23-fc143123d766",
   "metadata": {},
   "outputs": [],
   "source": [
    "diamonds = diamonds[diamonds['x']>0]"
   ]
  },
  {
   "cell_type": "markdown",
   "id": "6176aba8-0298-48a7-9f26-7326bac01e44",
   "metadata": {},
   "source": [
    "# Dealing with textual data in pandas - uitwerkingen"
   ]
  },
  {
   "cell_type": "markdown",
   "id": "cd3fa4e0-3751-41ab-9535-0db5fc766348",
   "metadata": {},
   "source": [
    "### Opdracht 1"
   ]
  },
  {
   "cell_type": "code",
   "execution_count": null,
   "id": "b6a46130-3f58-4719-bcf7-41b8d00c2010",
   "metadata": {},
   "outputs": [],
   "source": [
    "import pandas as pd\n",
    "hu_tweets = pd.read_csv('../data/hu_tweets.csv')"
   ]
  },
  {
   "cell_type": "markdown",
   "id": "08075d04-a63b-40d4-9b97-45546858f191",
   "metadata": {},
   "source": [
    "### Opdracht 2"
   ]
  },
  {
   "cell_type": "code",
   "execution_count": null,
   "id": "a43ad979-11eb-4c59-bdbb-2aa0e37cf219",
   "metadata": {},
   "outputs": [],
   "source": [
    "mentions = hu_tweets['Tekst'].str.contains('@')\n",
    "hu_tweets_mentioned = hu_tweets[mentions]"
   ]
  },
  {
   "cell_type": "markdown",
   "id": "d02fa1c4-edb1-4483-8815-340fa85fc314",
   "metadata": {},
   "source": [
    "### Opdracht 3"
   ]
  },
  {
   "cell_type": "code",
   "execution_count": null,
   "id": "70d11f76-8b4a-4c93-9ebd-23855bb7afd5",
   "metadata": {},
   "outputs": [],
   "source": [
    "hashtags_count = hu_tweets['Tekst'].str.count('#')\n",
    "hu_tweets['Aantal hashtags'] = hashtags_count"
   ]
  },
  {
   "cell_type": "markdown",
   "id": "c16a5fdb-a9fd-4973-ae6d-f383fe9162bd",
   "metadata": {},
   "source": [
    "### Opdracht 4"
   ]
  },
  {
   "cell_type": "code",
   "execution_count": null,
   "id": "5e9c0b6e-d61c-495a-bee5-94c29d35b649",
   "metadata": {},
   "outputs": [],
   "source": [
    "hu_tweets['Aantal tekens'] = hu_tweets['Tekst'].str.len()"
   ]
  },
  {
   "cell_type": "markdown",
   "id": "928847d0-fa39-4ad4-8ace-6f96468c590b",
   "metadata": {},
   "source": [
    "## Tutorial 9"
   ]
  },
  {
   "cell_type": "code",
   "execution_count": null,
   "id": "31d9aa2e-3c59-4c24-a56e-ad669edbca63",
   "metadata": {},
   "outputs": [],
   "source": [
    "hr_data = pd.read_csv('../../data/hr_data.csv')"
   ]
  },
  {
   "cell_type": "markdown",
   "id": "b37290ae-894e-491c-b420-7c7acc7b91cc",
   "metadata": {},
   "source": [
    "### Opdracht 1"
   ]
  },
  {
   "cell_type": "code",
   "execution_count": null,
   "id": "851a6c21-4ca1-4927-8af9-cbfecee74357",
   "metadata": {},
   "outputs": [],
   "source": [
    "hr_data.dtypes"
   ]
  },
  {
   "cell_type": "markdown",
   "id": "67dd7f18-ca60-474b-b9e8-13ad58f1b881",
   "metadata": {},
   "source": [
    "### Opdracht 2"
   ]
  },
  {
   "cell_type": "code",
   "execution_count": null,
   "id": "fb473a23-69a5-431b-b4c3-7f515710af82",
   "metadata": {},
   "outputs": [],
   "source": [
    "for column in ['DOB','DateofHire','DateofTermination']:\n",
    "    hr_data[column] = pd.to_datetime(hr_data[column], format = '%d/%m/%Y')"
   ]
  },
  {
   "cell_type": "markdown",
   "id": "8725989d-6059-42e6-990c-d7b7332c9c49",
   "metadata": {},
   "source": [
    "### Opdracht 3"
   ]
  },
  {
   "cell_type": "code",
   "execution_count": null,
   "id": "91b383de-5acb-443c-ad5e-e7405f3c9700",
   "metadata": {},
   "outputs": [],
   "source": [
    "hr_data['Age'] = pd.Timestamp.now().year - hr_data['DOB'].dt.year"
   ]
  },
  {
   "cell_type": "markdown",
   "id": "c4162a1b-1a5d-40bd-b97d-4e198f80ae17",
   "metadata": {},
   "source": [
    "### Opdracht 4"
   ]
  },
  {
   "cell_type": "code",
   "execution_count": null,
   "id": "2c3c3a4f-e61c-458e-8f18-e22df74e034a",
   "metadata": {},
   "outputs": [],
   "source": [
    "hr_data['AgeofTermination'] = hr_data['DateofTermination'].dt.year - hr_data['DOB'].dt.year"
   ]
  }
 ],
 "metadata": {
  "kernelspec": {
   "display_name": "Python 3 (ipykernel)",
   "language": "python",
   "name": "python3"
  },
  "language_info": {
   "codemirror_mode": {
    "name": "ipython",
    "version": 3
   },
   "file_extension": ".py",
   "mimetype": "text/x-python",
   "name": "python",
   "nbconvert_exporter": "python",
   "pygments_lexer": "ipython3",
   "version": "3.8.2"
  }
 },
 "nbformat": 4,
 "nbformat_minor": 5
}
