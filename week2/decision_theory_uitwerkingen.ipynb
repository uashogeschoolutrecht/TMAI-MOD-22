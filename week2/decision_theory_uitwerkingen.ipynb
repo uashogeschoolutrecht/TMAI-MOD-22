{
  "nbformat": 4,
  "nbformat_minor": 0,
  "metadata": {
    "colab": {
      "provenance": [],
      "collapsed_sections": []
    },
    "kernelspec": {
      "name": "python3",
      "display_name": "Python 3"
    },
    "language_info": {
      "name": "python"
    }
  },
  "cells": [
    {
      "cell_type": "markdown",
      "source": [
        "Notebook to accompany lecture on Decision Theory </br>\n",
        "By Jimmy Mulder, Hogeschool Utrecht"
      ],
      "metadata": {
        "id": "MNyeK9tDoOCg"
      }
    },
    {
      "cell_type": "markdown",
      "source": [
        "Imports"
      ],
      "metadata": {
        "id": "h1aCGP_voigv"
      }
    },
    {
      "cell_type": "code",
      "source": [
        "import random\n",
        "import numpy as np\n",
        "import matplotlib.pyplot as plt\n",
        "import math\n",
        "\n",
        "data = (np.random.randn(100) * 2 + 30)"
      ],
      "metadata": {
        "id": "WlOV7_IEoHJ5"
      },
      "execution_count": 1,
      "outputs": []
    },
    {
      "cell_type": "markdown",
      "source": [
        "Binomial example: adapt this code so that it matches the figure in slide 7"
      ],
      "metadata": {
        "id": "AhsPpE2eoGzi"
      }
    },
    {
      "cell_type": "code",
      "execution_count": 7,
      "metadata": {
        "id": "ZXsf5SUdkntJ",
        "colab": {
          "base_uri": "https://localhost:8080/",
          "height": 334
        },
        "outputId": "d96d2680-fe6d-4fb8-8003-ad618551f8e5"
      },
      "outputs": [
        {
          "output_type": "execute_result",
          "data": {
            "text/plain": [
              "(array([   7.,   94.,  425., 1148., 2065., 2455., 2043., 1200.,  440.,\n",
              "         122.]),\n",
              " array([ 0.,  1.,  2.,  3.,  4.,  5.,  6.,  7.,  8.,  9., 10.]),\n",
              " <a list of 10 Patch objects>)"
            ]
          },
          "metadata": {},
          "execution_count": 7
        },
        {
          "output_type": "display_data",
          "data": {
            "text/plain": [
              "<Figure size 432x288 with 1 Axes>"
            ],
            "image/png": "[encoded data removed]"
          },
          "metadata": {
            "needs_background": "light"
          }
        }
      ],
      "source": [
        "all_outcomes = []\n",
        "for i in range(1,10000):\n",
        "  coinflip_outcomes = random.choices([\"heads\",\"tails\"], weights=[50,50], k=10)\n",
        "  num_heads = coinflip_outcomes.count(\"heads\")\n",
        "  all_outcomes.append(num_heads)\n",
        "\n",
        "plt.hist(all_outcomes)\n"
      ]
    },
    {
      "cell_type": "markdown",
      "source": [
        "Discrete example: Add to this code to recreate the figure in slide 10"
      ],
      "metadata": {
        "id": "b3wkKJ61rqJ-"
      }
    },
    {
      "cell_type": "code",
      "source": [
        "all_outcomes = []\n",
        "for i in range(1,10000):\n",
        "  die_roll1 = random.randint(1,6)\n",
        "  die_roll2 = random.randint(1,6)\n",
        "  sum2222 = die_roll1 + die_roll2\n",
        "  all_outcomes.append(sum)\n",
        "\n",
        "plt.hist(all_outcomes, bins=11)"
      ],
      "metadata": {
        "colab": {
          "base_uri": "https://localhost:8080/",
          "height": 369
        },
        "id": "kD9-hyijrpZ_",
        "outputId": "94683121-5e9f-4418-8620-5fcab1774aa7"
      },
      "execution_count": 10,
      "outputs": [
        {
          "output_type": "execute_result",
          "data": {
            "text/plain": [
              "(array([ 263.,  572.,  878., 1137., 1384., 1684., 1364., 1097.,  851.,\n",
              "         512.,  257.]),\n",
              " array([ 2.        ,  2.90909091,  3.81818182,  4.72727273,  5.63636364,\n",
              "         6.54545455,  7.45454545,  8.36363636,  9.27272727, 10.18181818,\n",
              "        11.09090909, 12.        ]),\n",
              " <a list of 11 Patch objects>)"
            ]
          },
          "metadata": {},
          "execution_count": 10
        },
        {
          "output_type": "display_data",
          "data": {
            "text/plain": [
              "<Figure size 432x288 with 1 Axes>"
            ],
            "image/png": "[encoded data removed]"
          },
          "metadata": {
            "needs_background": "light"
          }
        }
      ]
    },
    {
      "cell_type": "markdown",
      "source": [
        "Lottery example: try to recreate the plots on slide 11. \n",
        "Increase the ticket cost and add code to calculate your odds of making a profit"
      ],
      "metadata": {
        "id": "pn_upkTbvczy"
      }
    },
    {
      "cell_type": "code",
      "source": [
        "number_of_players = 10000\n",
        "number_of_tickets = 100\n",
        "ticket_cost = 0\n",
        "all_outcomes = []\n",
        "for i in range(0, number_of_players):\n",
        "  lottery_outcomes = random.choices([0, 5, 20, 100], weights=[84,10,5,1], k=number_of_tickets)\n",
        "  all_outcomes.append(sum(lottery_outcomes))\n",
        "plt.hist(all_outcomes, bins=50)\n"
      ],
      "metadata": {
        "colab": {
          "base_uri": "https://localhost:8080/",
          "height": 475
        },
        "id": "SSHszFqevcNb",
        "outputId": "01c85729-1f17-4324-996a-766268aaa73c"
      },
      "execution_count": 5,
      "outputs": [
        {
          "output_type": "execute_result",
          "data": {
            "text/plain": [
              "(array([  6.,  11.,  66., 136., 343., 375., 617., 495., 500., 686., 525.,\n",
              "        770., 562., 728., 532., 571., 391., 356., 493., 294., 322., 227.,\n",
              "        230., 127., 115., 118.,  86.,  77.,  49.,  54.,  36.,  33.,  21.,\n",
              "         13.,  11.,   7.,   3.,   5.,   2.,   1.,   2.,   0.,   1.,   0.,\n",
              "          0.,   2.,   0.,   0.,   0.,   1.]),\n",
              " array([ 20. ,  37.2,  54.4,  71.6,  88.8, 106. , 123.2, 140.4, 157.6,\n",
              "        174.8, 192. , 209.2, 226.4, 243.6, 260.8, 278. , 295.2, 312.4,\n",
              "        329.6, 346.8, 364. , 381.2, 398.4, 415.6, 432.8, 450. , 467.2,\n",
              "        484.4, 501.6, 518.8, 536. , 553.2, 570.4, 587.6, 604.8, 622. ,\n",
              "        639.2, 656.4, 673.6, 690.8, 708. , 725.2, 742.4, 759.6, 776.8,\n",
              "        794. , 811.2, 828.4, 845.6, 862.8, 880. ]),\n",
              " <a list of 50 Patch objects>)"
            ]
          },
          "metadata": {},
          "execution_count": 5
        },
        {
          "output_type": "display_data",
          "data": {
            "text/plain": [
              "<Figure size 432x288 with 1 Axes>"
            ],
            "image/png": "[encoded data removed]"
          },
          "metadata": {
            "needs_background": "light"
          }
        }
      ]
    },
    {
      "cell_type": "markdown",
      "source": [
        "Continuous example: try varying the bin size (i.e. decrease the interval) and see what happens"
      ],
      "metadata": {
        "id": "3dIcdrDgwEab"
      }
    },
    {
      "cell_type": "code",
      "source": [
        "from scipy.stats import norm\n",
        "bin_size = 0.5\n",
        "plt.hist(data, density = True, bins=np.arange(25,36,bin_size))\n",
        "\n",
        "mu, std = norm.fit(data) \n",
        "\n",
        "# Plot the PDF.\n",
        "xmin, xmax = plt.xlim()\n",
        "x = np.linspace(xmin, xmax, 100)\n",
        "p = norm.pdf(x, mu, std)\n",
        "  \n",
        "plt.plot(x, p, 'k', linewidth=2)\n",
        "  \n",
        "plt.show()"
      ],
      "metadata": {
        "colab": {
          "base_uri": "https://localhost:8080/",
          "height": 265
        },
        "id": "CKD0YpoymzAx",
        "outputId": "7b9dace5-3b52-4b36-9d8f-876731232cba"
      },
      "execution_count": 6,
      "outputs": [
        {
          "output_type": "display_data",
          "data": {
            "text/plain": [
              "<Figure size 432x288 with 1 Axes>"
            ],
            "image/png": "[encoded data removed]"
          },
          "metadata": {
            "needs_background": "light"
          }
        }
      ]
    },
    {
      "cell_type": "markdown",
      "source": [
        "Let's dig a little deeper into the marshmallow experiment. First, decide for yourself what the utility function for marshmallows is. For me, it looks something like this:"
      ],
      "metadata": {
        "id": "st7ITnrBE62_"
      }
    },
    {
      "cell_type": "code",
      "source": [
        "def MM_utility(number_of_marshmallows):\n",
        "  if (number_of_marshmallows < 10):\n",
        "    return math.log(number_of_marshmallows,2)\n",
        "  else:\n",
        "    return math.log(number_of_marshmallows,2) - math.pow(number_of_marshmallows - 10, 1.1)\n",
        "\n",
        "MMlist = []\n",
        "for i in range (1,20):\n",
        "  MMlist.append(MM_utility(i))\n",
        "\n",
        "plt.plot(range(1,20),MMlist)\n",
        "plt.xlabel(\"number of marshmallows\")\n",
        "plt.ylabel(\"funpoints\")"
      ],
      "metadata": {
        "colab": {
          "base_uri": "https://localhost:8080/",
          "height": 296
        },
        "id": "9XeXZ6Akqy8H",
        "outputId": "2f3387bb-f3e6-4926-c827-b8c433fe7da6"
      },
      "execution_count": 8,
      "outputs": [
        {
          "output_type": "execute_result",
          "data": {
            "text/plain": [
              "Text(0, 0.5, 'funpoints')"
            ]
          },
          "metadata": {},
          "execution_count": 8
        },
        {
          "output_type": "display_data",
          "data": {
            "text/plain": [
              "<Figure size 432x288 with 1 Axes>"
            ],
            "image/png": "[encoded data removed]"
          },
          "metadata": {
            "needs_background": "light"
          }
        }
      ]
    },
    {
      "cell_type": "markdown",
      "source": [
        "As you can see in this plot, I enjoy 2 marsmallows more than 1, but after 10 marshmallows I start to get nauseous, and after about 13 I regret eating any at all. <br>\n",
        "Try to come up with your own utility function!"
      ],
      "metadata": {
        "id": "XuICgxoPH_ib"
      }
    },
    {
      "cell_type": "code",
      "source": [
        "def MM_utility(number_of_marshmallows):\n",
        "  return 0 #add your code here\n",
        "\n",
        "MMlist = []\n",
        "for i in range (1,20):\n",
        "  MMlist.append(MM_utility(i))\n",
        "\n",
        "plt.plot(range(1,20),MMlist)\n",
        "plt.xlabel(\"number of marshmallows\")\n",
        "plt.ylabel(\"funpoints\")"
      ],
      "metadata": {
        "id": "Q_GXs0RPIVpx"
      },
      "execution_count": null,
      "outputs": []
    },
    {
      "cell_type": "markdown",
      "source": [
        "Now lets think about the experiment: In which case is it rational for you to wait, and when is it more rational to simply eat the marshmallow right away? Let's vary the number of marshmallows, the amount of trust you have in the psychologists, and how long you have to wait/how much you hate waiting! Then go back and change your utility function and try again."
      ],
      "metadata": {
        "id": "a7o45lctIbub"
      }
    },
    {
      "cell_type": "code",
      "source": [
        "Utility_one_MM = MM_utility(1)\n",
        "\n",
        "amount_of_extra_marshmallows = 10 # try varying this variable.\n",
        "Utility_of_extra_marshmallows = MM_utility(amount_of_extra_marshmallows + 1)\n",
        "trust_level = 0.75 # odds that the experimenter keeps their promise. try varying this variable.\n",
        "\n",
        "waiting_penalty = 1.2 # an arbitrary amount of funpoints. try varying this variable.\n",
        "\n",
        "expected_utility_of_waiting = Utility_of_extra_marshmallows * trust_level - waiting_penalty\n",
        "\n",
        "if (Utility_one_MM > expected_utility_of_waiting):\n",
        "  print(\"eat the marshmallow!\")\n",
        "else:\n",
        "  print(\"have some patience!\")"
      ],
      "metadata": {
        "colab": {
          "base_uri": "https://localhost:8080/"
        },
        "id": "68YxJBXgI3u9",
        "outputId": "998270d5-ebf3-43af-f145-ad19c6980dc9"
      },
      "execution_count": 29,
      "outputs": [
        {
          "output_type": "stream",
          "name": "stdout",
          "text": [
            "have some patience!\n"
          ]
        }
      ]
    },
    {
      "cell_type": "markdown",
      "source": [
        "Advanced topics: exploration vs exploitation. In this excercise, we'll play the slot machines and try to find the optimal strategy. Follow the instructions in the comments to recreate the experiment we discussed during the lecture. Then vary the payout schemes and the exploration phase. How are these two concepts related to each other?"
      ],
      "metadata": {
        "id": "FFEbU1i0K-qt"
      }
    },
    {
      "cell_type": "code",
      "source": [
        "def play_slot_machine(machine_number):\n",
        "  slot_machine_1_payout = 100\n",
        "  slot_machine_1_payout_chance = 0.1 # slot machine 1 gives a 10% chance of winning 100 dollars. Now add 2 more machines!\n",
        "  slot_machine_2_payout = 50\n",
        "  slot_machine_2_payout_chance = 0.15 # slot machine 1 gives a 10% chance of winning 100 dollars. Now add 2 more machines!\n",
        "  slot_machine_3_payout = 5\n",
        "  slot_machine_3_payout_chance = 0.8 # slot machine 1 gives a 10% chance of winning 100 dollars. Now add 2 more machines!\n",
        "\n",
        "  if (machine_number == 1):\n",
        "    return random.choices([slot_machine_1_payout,0], weights=[slot_machine_1_payout_chance,1 - slot_machine_1_payout_chance], k=1)[0] # add the other 2 machines\n",
        "  elif (machine_number ==2):\n",
        "    return random.choices([slot_machine_2_payout,0], weights=[slot_machine_2_payout_chance,1 - slot_machine_2_payout_chance], k=1)[0] # add the other 2 machines\n",
        "  elif (machine_number ==3):\n",
        "    return random.choices([slot_machine_3_payout,0], weights=[slot_machine_3_payout_chance,1 - slot_machine_3_payout_chance], k=1)[0] # add the other 2 machines\n",
        "  else: return \"no machine with that number\"\n",
        "\n",
        "total_rounds = 1000\n",
        "exploration_rounds_per_machine = 100\n",
        "\n",
        "m1_profits = []\n",
        "m2_profits = []\n",
        "m3_profits = []\n",
        "\n",
        "for i in range(1, exploration_rounds_per_machine):\n",
        "  # adapt or add to this code to use and store the output of all 3 machines, so you can calculate the average profit of each machine!\n",
        "  m1_profits.append(play_slot_machine(1)) \n",
        "  m2_profits.append(play_slot_machine(2)) \n",
        "  m3_profits.append(play_slot_machine(3)) \n",
        "\n",
        "avg_profit1 = np.mean(m1_profits)\n",
        "avg_profit2 = np.mean(m2_profits)\n",
        "avg_profit3 = np.mean(m3_profits)\n",
        "\n",
        "exploration_phase_profit = sum(m1_profits) + sum(m2_profits) + sum(m3_profits)\n",
        "\n",
        "best_machine_number = np.argmax(np.array([avg_profit1, avg_profit2, avg_profit3])) + 1 #compensate for index number\n",
        "\n",
        "print(\"average profit for machine 1: \" + str(avg_profit1))\n",
        "print(\"average profit for machine 2: \" + str(avg_profit2))\n",
        "print(\"average profit for machine 3: \" + str(avg_profit3))\n",
        "print(\"total profit in exploration phase: \" + str(exploration_phase_profit)) \n",
        "print(\"choosing machine: \" + str(best_machine_number))\n",
        "\n",
        "exploitation_phase_profit = 0 # leave this at 0\n",
        "for i in range(1, total_rounds - exploration_rounds_per_machine * 3): # for the remaining rounds, exploit the best machine\n",
        "  exploitation_phase_profit += play_slot_machine(best_machine_number)\n",
        "\n",
        "print(\"epxloitation phase profit: \" + str(exploitation_phase_profit))\n",
        "print(\"total profit is: \" + str(exploration_phase_profit + exploitation_phase_profit))"
      ],
      "metadata": {
        "colab": {
          "base_uri": "https://localhost:8080/"
        },
        "id": "1uFt8DK9LOZs",
        "outputId": "69c4ee3c-488d-43f0-e49e-2df16595ba8d"
      },
      "execution_count": 30,
      "outputs": [
        {
          "output_type": "stream",
          "name": "stdout",
          "text": [
            "average profit for machine 1: 8.080808080808081\n",
            "average profit for machine 2: 13.131313131313131\n",
            "average profit for machine 3: 4.292929292929293\n",
            "total profit in exploration phase: 2525\n",
            "choosing machine: 2\n",
            "epxloitation phase profit: 5600\n",
            "total profit is: 8125\n"
          ]
        }
      ]
    },
    {
      "cell_type": "code",
      "source": [],
      "metadata": {
        "id": "qERhnQ_88E8y"
      },
      "execution_count": null,
      "outputs": []
    }
  ]
}