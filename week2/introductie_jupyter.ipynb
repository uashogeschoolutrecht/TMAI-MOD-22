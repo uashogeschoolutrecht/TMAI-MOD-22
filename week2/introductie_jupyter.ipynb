{
 "cells": [
  {
   "cell_type": "markdown",
   "metadata": {},
   "source": [
    "# Introductie Jupyter Notebook\n",
    "\n",
    "We gaan werken met python in jupyter notebooks, zoals deze. In dit notebook werk je met cellen die je onafhankelijk van elkaar kunt runnen. Dit maakt het makkelijk om met code te experimenteren. Ook kun je cellen toevoegen met tekst, waardoor je makkelijk kunt documenteren wat je code doet. Hierdoor is het ook erg geschikt voor het leren van Python.\n",
    "Jupyter notebooks zijn niet geschikt voor het schrijven van applicaties of voor samenwerking in een team van developers, dan zul je gebruik moeten maken van (gebundelde) .py bestanden en niet van notebooks."
   ]
  },
  {
   "cell_type": "markdown",
   "metadata": {},
   "source": [
    "Deze cel en de cel hierboven zijn tekstcellen, ook wel Markdown genoemd. Dat kun je zien door op deze cel te klikken en dan zie je bovenaan in het menu de tekst 'Markdown' staanin de dropdown. Die dropdown kun je gebruiken om een cell te veranderen van tekst naar code of andersom. Omdat dit een tekstcel is zal er niet veel gebeuren als je deze cel runt, de cel hieronder is een code-cel die je wel kunt runnen. Doe dit door op de cel te klikken en Shift+Enter te drukken."
   ]
  },
  {
   "cell_type": "code",
   "execution_count": null,
   "metadata": {},
   "outputs": [],
   "source": [
    "print(\"Hallo vanuit dit notebook!\")"
   ]
  },
  {
   "cell_type": "markdown",
   "metadata": {},
   "source": [
    "Klik nu nog eens op de cel hierboven, maak er een Markdown cel van en run hem nog eens. Wat gebeurt er? Verander hem vervolgens weer terug naar code."
   ]
  },
  {
   "cell_type": "markdown",
   "metadata": {},
   "source": [
    "Een notebook heeft een Edit-mode en een Command-mode. In de Edit-mode kun je de inhoud van cellen aanpassen. In de command-mode kun het notebook wel aanpassen, maar niet de inhoud van de cellen. De command-mode is handig omdat je dan met keyboard shortcuts allerlei aanpassingen kan maken, bijvoorbeeld cellen toevoegen of verwijderen. Om naar de Command-mode te gaan druk je op ***esc***. Om  terug te gaan naar Edit-mode kun je dubbelklikken in de gewenste cel, of op ***Enter*** drukken. \n",
    "Oefen hier eens mee, bijvoorbeeld door onderstaande stappen uit te voeren:\n",
    "* Dubbelklik nu in deze cel om naar de Edit-mode te gaan\n",
    "* Druk op ***esc*** om terug naar de Command-mode te gaan\n",
    "* druk op ***b*** om een nieuwe cel onder de huidige cel toe te voegen.\n",
    "* Dubbelklik in de nieuwe cel of druk op ***Enter***. \n",
    "* Schrijf een stukje code in de cel.\n",
    "* Run de cel door op ***shift***+***enter*** te drukken. "
   ]
  },
  {
   "cell_type": "markdown",
   "metadata": {},
   "source": [
    "Ander handige short-keys in de command-mode zijn:\n",
    "* a voegt een cel boven de huidige toe\n",
    "* m maakt een markdowncel van de huidige cel\n",
    "* y maakt een code-cel van de huidige cel\n",
    "\n",
    "    Je hoeft deze niet uit je hoofd te leren, maar je kunt sneller werken als je een paar van deze commands gebruikt. \n",
    "    Je kunt bijna alles ook met je muis doen, dus je hoeft de short-keys in de command-mode niet te gebruiken als je niet wilt, maar het werkt vaak wel sneller."
   ]
  },
  {
   "cell_type": "markdown",
   "metadata": {},
   "source": [
    "Nu is het tijd om code te gaan schrijven en runnen. Let erop dat variabelen alleen in het geheugen komen als je een cel gerund hebt. Het is dus niet genoeg om code te schrijven. Het is verstandig om het notebook zo in te richten dat alle code werkt als je de cellen van boven naar beneden één voor één runt. Dat zal voor alle notebooks in deze modulen gelden. Aan het sterretje voor een cel zie je dat de cel aan het runnen is, als er een getal voor komt te staan weet je dat deze gerund is."
   ]
  },
  {
   "cell_type": "markdown",
   "metadata": {},
   "source": [
    "Als je een variabele in een cel definieert en deze runt, kun je hem in alle cellen die je daarna runt gebruiken. Run onderstaande cellen om te zien hoe dit werkt."
   ]
  },
  {
   "cell_type": "code",
   "execution_count": null,
   "metadata": {},
   "outputs": [],
   "source": [
    "naam = #vul hier je naam in"
   ]
  },
  {
   "cell_type": "markdown",
   "metadata": {},
   "source": [
    "Als je een SyntaxError krijgt ben je vergeten je naam in te vullen :) "
   ]
  },
  {
   "cell_type": "code",
   "execution_count": null,
   "metadata": {},
   "outputs": [],
   "source": [
    "print(\"Hallo \" + naam)"
   ]
  },
  {
   "cell_type": "markdown",
   "metadata": {},
   "source": [
    "Naast variabele kun je ook functies definieren in een cel die je vervolgens in andere cellen kunt gebruiken (als je hem gerund hebt). Run onderstaande cellen om te zien hoe dit werkt."
   ]
  },
  {
   "cell_type": "code",
   "execution_count": null,
   "metadata": {},
   "outputs": [],
   "source": [
    "def tel_op(a, b):\n",
    "    return a + b"
   ]
  },
  {
   "cell_type": "code",
   "execution_count": null,
   "metadata": {},
   "outputs": [],
   "source": [
    "tel_op(3,5)"
   ]
  },
  {
   "cell_type": "markdown",
   "metadata": {},
   "source": [
    "Als we functies of variabelen gebruiken die wel in een cel staan, maar nog niet gerund zijn, zullen we een error krijgen. Run onderstaande cellen eens."
   ]
  },
  {
   "cell_type": "code",
   "execution_count": null,
   "metadata": {},
   "outputs": [],
   "source": [
    "trek_af(8,3)"
   ]
  },
  {
   "cell_type": "markdown",
   "metadata": {},
   "source": [
    "De error is vrij duidelijk, trek_af is nog niet gedefineerd. Dat doen we in onderstaande cel. Run die, en run vervolgens bovenstaande cel nog eens. Je ziet dat het dan wel werkt."
   ]
  },
  {
   "cell_type": "code",
   "execution_count": null,
   "metadata": {},
   "outputs": [],
   "source": [
    "def trek_af(a, b):\n",
    "    return a - b"
   ]
  },
  {
   "cell_type": "markdown",
   "metadata": {},
   "source": [
    "Als je op een gegeven moment heel veel code geschreven en weer veranderd hebt, waardoor je niet meer weet welke variabelen en functies wel/niet in het geheugen zitten, kun je de kernel opnieuw opstarten (Klik Kernel -> Restart Kernel...). Hiermee reset je als het ware je notebook. Je kunt dan alle cellen van boven naar beneden runnen. Als dat werkt weet je dat je een goed werkend notebook gemaakt hebt.\n",
    "Er zijn nog twee gevallen waarbij het herstarten van de kernel handig is: Als je notebook vastloopt kun je hem zo resetten, maar ook als je een nieuw package geinstalleerd hebt moet je eerst de kernel herstarten voordat je hem kunt gebruiken."
   ]
  }
 ],
 "metadata": {
  "kernelspec": {
   "display_name": "Python 3 (ipykernel)",
   "language": "python",
   "name": "python3"
  },
  "language_info": {
   "codemirror_mode": {
    "name": "ipython",
    "version": 3
   },
   "file_extension": ".py",
   "mimetype": "text/x-python",
   "name": "python",
   "nbconvert_exporter": "python",
   "pygments_lexer": "ipython3",
   "version": "3.8.2"
  }
 },
 "nbformat": 4,
 "nbformat_minor": 4
}
