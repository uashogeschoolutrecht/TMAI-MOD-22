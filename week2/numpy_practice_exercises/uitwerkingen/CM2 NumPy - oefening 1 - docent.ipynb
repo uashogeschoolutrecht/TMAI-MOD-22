{
 "cells": [
  {
   "cell_type": "markdown",
   "metadata": {},
   "source": [
    "# CM2 NumPy - oefening 1"
   ]
  },
  {
   "cell_type": "code",
   "execution_count": null,
   "metadata": {},
   "outputs": [],
   "source": [
    "import numpy"
   ]
  },
  {
   "cell_type": "markdown",
   "metadata": {},
   "source": [
    "- Maak een 1D array x aan met de cijfers 0 t/m 5"
   ]
  },
  {
   "cell_type": "code",
   "execution_count": null,
   "metadata": {
    "tags": [
     "student"
    ]
   },
   "outputs": [],
   "source": [
    "# Een één-dimensionale array met de getallen 0 tot en met 5:\n",
    "    \n",
    "x = numpy.array([0,1,2,3,4,5])\n",
    "x"
   ]
  },
  {
   "cell_type": "code",
   "execution_count": null,
   "metadata": {
    "tags": [
     "student"
    ]
   },
   "outputs": [],
   "source": [
    "# Of zo: \n",
    "x2 = numpy.arange(6)\n",
    "x2"
   ]
  },
  {
   "cell_type": "markdown",
   "metadata": {},
   "source": [
    "- Laat de vorm (grootte van de dimensies) van de array zien"
   ]
  },
  {
   "cell_type": "code",
   "execution_count": null,
   "metadata": {
    "tags": [
     "student"
    ]
   },
   "outputs": [],
   "source": [
    "print(\"De dimensie van x is {}.\".format(x.shape))\n",
    "print(\"De dimensie van x2 is {}.\".format(x2.shape))"
   ]
  },
  {
   "cell_type": "markdown",
   "metadata": {},
   "source": [
    "- Hervorm de array x tot een 2D array (2, 3) "
   ]
  },
  {
   "cell_type": "code",
   "execution_count": null,
   "metadata": {
    "tags": [
     "student"
    ]
   },
   "outputs": [],
   "source": [
    "x = numpy.reshape(x, (2,3))\n",
    "x"
   ]
  },
  {
   "cell_type": "code",
   "execution_count": null,
   "metadata": {
    "tags": [
     "student"
    ]
   },
   "outputs": [],
   "source": [
    "# Of laat _NumPy_ de grootte van de tweede dimensie zelf bepalen:\n",
    "x2 = numpy.reshape(x2, (2,-1))\n",
    "x2"
   ]
  },
  {
   "cell_type": "markdown",
   "metadata": {},
   "source": [
    "- Wat is nu de vorm?\n"
   ]
  },
  {
   "cell_type": "code",
   "execution_count": null,
   "metadata": {
    "tags": [
     "student"
    ]
   },
   "outputs": [],
   "source": [
    "print(\"De dimensie van x is {}.\".format(x.shape))\n",
    "print(\"De dimensie van x2 is {}.\".format(x2.shape))"
   ]
  },
  {
   "cell_type": "markdown",
   "metadata": {},
   "source": [
    "- Laat het datatype zien\n"
   ]
  },
  {
   "cell_type": "code",
   "execution_count": null,
   "metadata": {
    "tags": [
     "student"
    ]
   },
   "outputs": [],
   "source": [
    "print(\"Het datatype van x is {}.\".format(x.dtype))\n",
    "print(\"Het datatype van x2 is {}.\".format(x2.dtype))"
   ]
  },
  {
   "cell_type": "markdown",
   "metadata": {},
   "source": [
    "- Sla een kopie van de array op in y\n"
   ]
  },
  {
   "cell_type": "code",
   "execution_count": null,
   "metadata": {
    "tags": [
     "student"
    ]
   },
   "outputs": [],
   "source": [
    "y = x.copy()\n",
    "y"
   ]
  },
  {
   "cell_type": "code",
   "execution_count": null,
   "metadata": {
    "tags": [
     "student"
    ]
   },
   "outputs": [],
   "source": [
    "# **Let op!** `x = y` maakt geen kopie, maar kopieert alleen de _referentie_ naar hetzelfde object. \n",
    "# Met andere woorden, `x` en `y` zijn vanaf dat moment twee namen voor _dezelfde_ array:\n",
    "\n",
    "y2 = x2\n",
    "x2[0,0] = 99\n",
    "print(\"x2 =\\n {}\\n\".format(x2))\n",
    "print(\"y2 =\\n {}\".format(y2))"
   ]
  },
  {
   "cell_type": "markdown",
   "metadata": {},
   "source": [
    "- Maak een transpose van x\n",
    "\n"
   ]
  },
  {
   "cell_type": "code",
   "execution_count": null,
   "metadata": {
    "tags": [
     "student"
    ]
   },
   "outputs": [],
   "source": [
    "x = numpy.transpose(x)\n",
    "x"
   ]
  },
  {
   "cell_type": "markdown",
   "metadata": {},
   "source": [
    "- Maak een transpose van y\n"
   ]
  },
  {
   "cell_type": "code",
   "execution_count": null,
   "metadata": {
    "tags": [
     "student"
    ]
   },
   "outputs": [],
   "source": [
    "y = y.T\n",
    "y"
   ]
  },
  {
   "cell_type": "markdown",
   "metadata": {},
   "source": [
    "- Vermenigvuldig alle waarden van y met 2\n"
   ]
  },
  {
   "cell_type": "code",
   "execution_count": null,
   "metadata": {
    "tags": [
     "student"
    ]
   },
   "outputs": [],
   "source": [
    "y = 2 * y\n",
    "y"
   ]
  },
  {
   "cell_type": "markdown",
   "metadata": {},
   "source": [
    "- Concateneer de twee arrays in een nieuwe array `z`\n"
   ]
  },
  {
   "cell_type": "code",
   "execution_count": null,
   "metadata": {
    "tags": [
     "student"
    ]
   },
   "outputs": [],
   "source": [
    "z = numpy.vstack((x,y))\n",
    "z1 = numpy.concatenate((x,y),axis=1)\n",
    "z2 = numpy.c_[x,y]\n",
    "\n",
    "print(\"z =\\n {}\\n\".format(z))\n",
    "print(\"z1 =\\n {}\\n\".format(z1))\n",
    "print(\"z2 =\\n {}\".format(z2))"
   ]
  },
  {
   "cell_type": "markdown",
   "metadata": {},
   "source": [
    "- Geef het gemiddelde, modus, mediaan en de standaarddeviatie van z\n"
   ]
  },
  {
   "cell_type": "code",
   "execution_count": null,
   "metadata": {
    "tags": [
     "student"
    ]
   },
   "outputs": [],
   "source": [
    "print(\"Gemiddelde van z is: {}\".format(z.mean()))\n",
    "print(\"Standaarddeviatie van z is: {:0.4f}\\n\".format(numpy.std(z)))\n",
    "print(\"Gemiddelde van z1 is: {}\".format(z1.mean()))\n",
    "print(\"Standaarddeviatie van z1 is: {:0.4f}\".format(numpy.std(z1)))      "
   ]
  }
 ],
 "metadata": {
  "celltoolbar": "Tags",
  "kernelspec": {
   "display_name": "Python 3",
   "language": "python",
   "name": "python3"
  },
  "language_info": {
   "codemirror_mode": {
    "name": "ipython",
    "version": 3
   },
   "file_extension": ".py",
   "mimetype": "text/x-python",
   "name": "python",
   "nbconvert_exporter": "python",
   "pygments_lexer": "ipython3",
   "version": "3.9.1"
  }
 },
 "nbformat": 4,
 "nbformat_minor": 2
}
