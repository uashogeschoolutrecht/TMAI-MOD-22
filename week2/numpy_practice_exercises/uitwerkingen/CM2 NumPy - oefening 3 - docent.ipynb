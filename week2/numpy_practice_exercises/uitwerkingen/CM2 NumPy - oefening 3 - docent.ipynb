{
 "cells": [
  {
   "cell_type": "markdown",
   "metadata": {},
   "source": [
    "# CM2 Numpy - oefening 3\n",
    "\n",
    "De blokcoördinator D.O. Cent van blok A, SIE-V2  wil graag de cijfers analyseren en verwerken. Het blok bestaat uit 3 vakken, die door 10 studenten gevolgd zijn. Analyse omvat o.a. het bepalen van gemiddelde cijfer, het aantal voldoendes en cursusrendement. De verwerking bestaat uit het corrigeren van de cijfers.\n",
    "\n",
    "In `blokAcijfers.txt` staan de cijfers per vak (naast elkaar staan de vakken, onder elkaar de studenten):\n",
    "\n",
    "vak1 | vak2 | vak3\n",
    "----|-------|------\n",
    "6.5 | 7.3   | 6.4\n",
    "8.0 | 8.0\t| 8.5\n",
    "3.2\t| 4.0\t| 5.0\n",
    "7.9\t| 7.1\t| 3.5\n",
    "7.3\t| 7.8\t| 8.0\n",
    "8.6\t| 8.0\t| 9.0\n",
    "4.0\t| 6.0\t| 5.5\n",
    "7.3\t| 7.8\t| 7.8\n",
    "4.5\t| 5.6\t| 7.7\n",
    "5.0\t| 7.0\t| 7.2\n"
   ]
  },
  {
   "cell_type": "code",
   "execution_count": 1,
   "metadata": {},
   "outputs": [],
   "source": [
    "import numpy as np"
   ]
  },
  {
   "cell_type": "markdown",
   "metadata": {},
   "source": [
    "-\tLees tekstbestand: blokAcijfers.txt in, in een numpy array met naam `cijfers`.\n",
    "-\tLaat zien dat de gegevens goed ingelezen zijn.\n",
    "-\tToon de array attributen."
   ]
  },
  {
   "cell_type": "code",
   "execution_count": 2,
   "metadata": {
    "scrolled": true,
    "tags": [
     "student"
    ]
   },
   "outputs": [
    {
     "name": "stdout",
     "output_type": "stream",
     "text": [
      "Cijfers:\n",
      "[[6.5 7.3 6.4]\n",
      " [8.  8.  8.5]\n",
      " [3.2 4.  5. ]\n",
      " [7.9 7.1 3.5]\n",
      " [7.3 7.8 8. ]\n",
      " [8.6 8.  9. ]\n",
      " [4.  6.  5.5]\n",
      " [7.3 7.8 7.8]\n",
      " [4.5 5.6 7.7]\n",
      " [5.  7.  7.2]]\n",
      "\n",
      "Cijfers heeft 30 elementen, 2 dimensies, de vorm (10, 3) en de inhoud is van type float64.\n",
      "\n"
     ]
    }
   ],
   "source": [
    "vCijfers = np.loadtxt(\"blokAcijfers.txt\")\n",
    "\n",
    "print(\"Cijfers:\\n{}\\n\".format(vCijfers))\n",
    "\n",
    "print(\"Cijfers heeft {} elementen, {} dimensies, de vorm {} en de inhoud is van type {}.\\n\".format(vCijfers.size, vCijfers.ndim, vCijfers.shape, vCijfers.dtype))"
   ]
  },
  {
   "cell_type": "markdown",
   "metadata": {},
   "source": [
    "De docent ziet dat er 2 cijfers fout zijn en wil deze corrigeren\n",
    "-\tWijzig de volgende cijfers:\n",
    "    *\tvak-2, student-3  cijfer 4.0 moet 4.3 worden.\n",
    "    *\tvak-1, student-10, cijfer 5.0 moet 4.8 worden."
   ]
  },
  {
   "cell_type": "code",
   "execution_count": 3,
   "metadata": {
    "tags": [
     "student"
    ]
   },
   "outputs": [
    {
     "name": "stdout",
     "output_type": "stream",
     "text": [
      "Verbeterde cijfers:\n",
      "[[6.5 7.3 6.4]\n",
      " [8.  8.  8.5]\n",
      " [3.2 4.3 5. ]\n",
      " [7.9 7.1 3.5]\n",
      " [7.3 7.8 8. ]\n",
      " [8.6 8.  9. ]\n",
      " [4.  6.  5.5]\n",
      " [7.3 7.8 7.8]\n",
      " [4.5 5.6 7.7]\n",
      " [4.8 7.  7.2]]\n",
      "\n"
     ]
    }
   ],
   "source": [
    "vCijfers[2,1] = 4.3\n",
    "vCijfers[9,0] = 4.8\n",
    "\n",
    "print(\"Verbeterde cijfers:\\n{}\\n\".format(vCijfers))"
   ]
  },
  {
   "cell_type": "markdown",
   "metadata": {},
   "source": [
    "De docent wil wat basisgegevens weten.\n",
    "-\tBepaal minimum, maximum en gemiddelde van alle cijfers.\n",
    "-\tBepaal minimum, maximum en gemiddelde van elk vak (3 getallen).\n",
    "-\tBepaal minimum, maximum en gemiddelde van elke student (10 getallen)."
   ]
  },
  {
   "cell_type": "code",
   "execution_count": 4,
   "metadata": {
    "tags": [
     "student"
    ]
   },
   "outputs": [
    {
     "name": "stdout",
     "output_type": "stream",
     "text": [
      "Van het totaal is het minimum 3.2, het maximum 9.0 en het gemiddelde 6.65.\n",
      "\n",
      "Van vak 1 is het minimum 3.2, het maximum 8.6 en het gemiddelde 6.21.\n",
      "Van vak 2 is het minimum 4.3, het maximum 8.0 en het gemiddelde 6.89.\n",
      "Van vak 3 is het minimum 3.5, het maximum 9.0 en het gemiddelde 6.86.\n",
      "\n"
     ]
    }
   ],
   "source": [
    "print(\"Van het totaal is het minimum {}, het maximum {} en het gemiddelde {:0.2f}.\\n\".format(vCijfers.min(), vCijfers.max(), vCijfers.mean()))\n",
    "print(\"Van vak 1 is het minimum {}, het maximum {} en het gemiddelde {:0.2f}.\".format(vCijfers[:,0].min(), vCijfers[:,0].max(), vCijfers[:,0].mean()))\n",
    "print(\"Van vak 2 is het minimum {}, het maximum {} en het gemiddelde {:0.2f}.\".format(vCijfers[:,1].min(), vCijfers[:,1].max(), vCijfers[:,1].mean()))\n",
    "print(\"Van vak 3 is het minimum {}, het maximum {} en het gemiddelde {:0.2f}.\\n\".format(vCijfers[:,2].min(), vCijfers[:,2].max(), vCijfers[:,2].mean()))"
   ]
  },
  {
   "cell_type": "code",
   "execution_count": 5,
   "metadata": {},
   "outputs": [
    {
     "name": "stdout",
     "output_type": "stream",
     "text": [
      "Minimum voor elke student: [6.4 8.  3.2 3.5 7.3 8.  4.  7.3 4.5 4.8]\n",
      "Maximum voor elke student: [7.3 8.5 5.  7.9 8.  9.  6.  7.8 7.7 7.2]\n",
      "Gemiddelde voor elke student: [6.7 8.2 4.2 6.2 7.7 8.5 5.2 7.6 5.9 6.3]\n"
     ]
    }
   ],
   "source": [
    "print(\"Minimum voor elke student:\", np.min(vCijfers, axis=1))\n",
    "print(\"Maximum voor elke student:\", np.max(vCijfers, axis=1))\n",
    "print(\"Gemiddelde voor elke student:\", np.around(np.mean(vCijfers, axis=1), 1))"
   ]
  },
  {
   "cell_type": "markdown",
   "metadata": {},
   "source": [
    "De docent wil graag zien wat de cijfers zijn als ze afgerond worden op hele getallen.\n",
    "-\tKopieer de array naar een nieuwe array.\n",
    "-\tRond de waarden af.\n",
    "-\tLaat de resultaten zien."
   ]
  },
  {
   "cell_type": "code",
   "execution_count": 6,
   "metadata": {
    "tags": [
     "student"
    ]
   },
   "outputs": [
    {
     "name": "stdout",
     "output_type": "stream",
     "text": [
      "\n",
      "Afgeronde cijfers:\n",
      "[[6. 7. 6.]\n",
      " [8. 8. 8.]\n",
      " [3. 4. 5.]\n",
      " [8. 7. 4.]\n",
      " [7. 8. 8.]\n",
      " [9. 8. 9.]\n",
      " [4. 6. 6.]\n",
      " [7. 8. 8.]\n",
      " [4. 6. 8.]\n",
      " [5. 7. 7.]]\n",
      "\n"
     ]
    }
   ],
   "source": [
    "vCijfersRond = vCijfers.copy()\n",
    "vCijfersRond = np.around(vCijfersRond, 0)\n",
    "\n",
    "print(\"\\nAfgeronde cijfers:\\n{}\\n\".format(vCijfersRond))"
   ]
  },
  {
   "cell_type": "markdown",
   "metadata": {},
   "source": [
    "Er is een fout gemaakt bij de cijfers van het 1e vak. Iedere student krijgt 0.5 punt extra erbij.\n",
    "-\tVul een ‘ophoogarray’ bestaande uit 3 kolommen en elk 10 rijen en vul deze eerst met 0.0 en daarna de eerste rij met de waarden 0.5.\n",
    "-\tTel de ophoogarray op bij de cijfer array."
   ]
  },
  {
   "cell_type": "code",
   "execution_count": 7,
   "metadata": {
    "tags": [
     "student"
    ]
   },
   "outputs": [
    {
     "name": "stdout",
     "output_type": "stream",
     "text": [
      "\n",
      "Cijfers na verhoging:\n",
      "[[7.  7.3 6.4]\n",
      " [8.5 8.  8.5]\n",
      " [3.7 4.3 5. ]\n",
      " [8.4 7.1 3.5]\n",
      " [7.8 7.8 8. ]\n",
      " [9.1 8.  9. ]\n",
      " [4.5 6.  5.5]\n",
      " [7.8 7.8 7.8]\n",
      " [5.  5.6 7.7]\n",
      " [5.3 7.  7.2]]\n",
      "\n"
     ]
    }
   ],
   "source": [
    "vCijfersVerhoging = np.zeros_like(vCijfers)\n",
    "vCijfersVerhoging[:, 0] = 0.5\n",
    "\n",
    "vCijfersNaVerhoging = vCijfers + vCijfersVerhoging\n",
    "\n",
    "print(\"\\nCijfers na verhoging:\\n{}\\n\".format(vCijfersNaVerhoging))"
   ]
  },
  {
   "cell_type": "markdown",
   "metadata": {},
   "source": [
    "De docent wil een lijstje waarin hij in één opslag ziet waar een voldoende (`True`) en waar een onvoldoende (`False`) staat.  \n",
    "-\tMaakt dit lijstje."
   ]
  },
  {
   "cell_type": "code",
   "execution_count": 8,
   "metadata": {
    "scrolled": false,
    "tags": [
     "student"
    ]
   },
   "outputs": [
    {
     "name": "stdout",
     "output_type": "stream",
     "text": [
      "[[ True  True  True]\n",
      " [ True  True  True]\n",
      " [False False False]\n",
      " [ True  True False]\n",
      " [ True  True  True]\n",
      " [ True  True  True]\n",
      " [False  True  True]\n",
      " [ True  True  True]\n",
      " [False  True  True]\n",
      " [False  True  True]]\n"
     ]
    }
   ],
   "source": [
    "print(vCijfers >= 5.5)"
   ]
  }
 ],
 "metadata": {
  "kernelspec": {
   "display_name": "Python 3",
   "language": "python",
   "name": "python3"
  },
  "language_info": {
   "codemirror_mode": {
    "name": "ipython",
    "version": 3
   },
   "file_extension": ".py",
   "mimetype": "text/x-python",
   "name": "python",
   "nbconvert_exporter": "python",
   "pygments_lexer": "ipython3",
   "version": "3.9.1"
  }
 },
 "nbformat": 4,
 "nbformat_minor": 2
}
