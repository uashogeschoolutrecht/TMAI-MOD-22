{
 "cells": [
  {
   "cell_type": "markdown",
   "metadata": {},
   "source": [
    "# CM2 Numpy - oefening 3\n",
    "\n",
    "De blokcoördinator D.O. Cent van blok A  wil graag de cijfers analyseren en verwerken. Het blok bestaat uit 3 vakken, die door 10 studenten gevolgd zijn. Analyse omvat o.a. het bepalen van gemiddelde cijfer, het aantal voldoendes en cursusrendement. De verwerking bestaat uit het corrigeren van de cijfers.\n",
    "\n",
    "In `blokAcijfers.txt` staan de cijfers per vak (naast elkaar staan de vakken, onder elkaar de studenten):\n",
    "\n",
    "vak1 | vak2 | vak3\n",
    "----|-------|------\n",
    "6.5 | 7.3   | 6.4\n",
    "8.0 | 8.0\t| 8.5\n",
    "3.2\t| 4.0\t| 5.0\n",
    "7.9\t| 7.1\t| 3.5\n",
    "7.3\t| 7.8\t| 8.0\n",
    "8.6\t| 8.0\t| 9.0\n",
    "4.0\t| 6.0\t| 5.5\n",
    "7.3\t| 7.8\t| 7.8\n",
    "4.5\t| 5.6\t| 7.7\n",
    "5.0\t| 7.0\t| 7.2\n"
   ]
  },
  {
   "cell_type": "code",
   "execution_count": null,
   "metadata": {},
   "outputs": [],
   "source": [
    "import numpy as np"
   ]
  },
  {
   "cell_type": "markdown",
   "metadata": {},
   "source": [
    "Start met de data verzamelen:\n",
    "- Lees tekstbestand: blokAcijfers.txt in met `np.loadtxt`, sla de data op in een numpy array met naam `vCijfers`.\n",
    "- Laat zien dat de gegevens goed ingelezen zijn.\n",
    "- Toon de array attributen."
   ]
  },
  {
   "cell_type": "code",
   "execution_count": null,
   "metadata": {
    "scrolled": true,
    "tags": [
     "student"
    ]
   },
   "outputs": [],
   "source": []
  },
  {
   "cell_type": "markdown",
   "metadata": {},
   "source": [
    "De docent ziet dat er 2 cijfers fout zijn en wil deze corrigeren\n",
    "-\tWijzig de volgende cijfers:\n",
    "    *\tvak-2, student-3  cijfer 4.0 moet 4.3 worden.\n",
    "    *\tvak-1, student-10, cijfer 5.0 moet 4.8 worden."
   ]
  },
  {
   "cell_type": "code",
   "execution_count": null,
   "metadata": {
    "tags": [
     "student"
    ]
   },
   "outputs": [],
   "source": []
  },
  {
   "cell_type": "markdown",
   "metadata": {},
   "source": [
    "De docent wil wat basisgegevens weten.\n",
    "-\tBepaal minimum, maximum en gemiddelde van alle cijfers.\n",
    "-\tBepaal minimum, maximum en gemiddelde van elk vak (3 getallen).\n",
    "-\tBepaal minimum, maximum en gemiddelde van elke student (10 getallen)."
   ]
  },
  {
   "cell_type": "code",
   "execution_count": null,
   "metadata": {
    "tags": [
     "student"
    ]
   },
   "outputs": [],
   "source": []
  },
  {
   "cell_type": "code",
   "execution_count": null,
   "metadata": {},
   "outputs": [],
   "source": []
  },
  {
   "cell_type": "code",
   "execution_count": null,
   "metadata": {},
   "outputs": [],
   "source": []
  },
  {
   "cell_type": "markdown",
   "metadata": {},
   "source": [
    "De docent wil graag zien wat de cijfers zijn als ze afgerond worden op hele getallen.\n",
    "-\tKopieer de array naar een nieuwe array.\n",
    "-\tRond de waarden af.\n",
    "-\tLaat de resultaten zien."
   ]
  },
  {
   "cell_type": "code",
   "execution_count": null,
   "metadata": {
    "tags": [
     "student"
    ]
   },
   "outputs": [],
   "source": []
  },
  {
   "cell_type": "markdown",
   "metadata": {},
   "source": [
    "Er is een fout gemaakt bij de cijfers van het 1e vak. Iedere student krijgt 0.5 punt extra erbij.\n",
    "-\tVul een ‘ophoogarray’ bestaande uit 3 kolommen en elk 10 rijen en vul deze eerst met 0.0 en daarna de eerste rij met de waarden 0.5.\n",
    "-\tTel de ophoogarray op bij de cijfer array."
   ]
  },
  {
   "cell_type": "code",
   "execution_count": null,
   "metadata": {
    "tags": [
     "student"
    ]
   },
   "outputs": [],
   "source": []
  },
  {
   "cell_type": "markdown",
   "metadata": {},
   "source": [
    "De docent wil een lijstje waarin hij in één opslag ziet waar een voldoende (`True`) en waar een onvoldoende (`False`) staat.  \n",
    "-\tMaakt dit lijstje."
   ]
  },
  {
   "cell_type": "code",
   "execution_count": null,
   "metadata": {
    "tags": [
     "student"
    ]
   },
   "outputs": [],
   "source": []
  }
 ],
 "metadata": {
  "kernelspec": {
   "display_name": "Python 3 (ipykernel)",
   "language": "python",
   "name": "python3"
  },
  "language_info": {
   "codemirror_mode": {
    "name": "ipython",
    "version": 3
   },
   "file_extension": ".py",
   "mimetype": "text/x-python",
   "name": "python",
   "nbconvert_exporter": "python",
   "pygments_lexer": "ipython3",
   "version": "3.8.2"
  }
 },
 "nbformat": 4,
 "nbformat_minor": 4
}
