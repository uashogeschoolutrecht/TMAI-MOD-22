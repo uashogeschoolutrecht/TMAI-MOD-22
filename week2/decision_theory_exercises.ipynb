{
 "cells": [
  {
   "cell_type": "markdown",
   "metadata": {
    "id": "MNyeK9tDoOCg"
   },
   "source": [
    "Notebook to accompany lecture on Decision Theory </br>\n",
    "By Jimmy Mulder, Hogeschool Utrecht"
   ]
  },
  {
   "cell_type": "markdown",
   "metadata": {
    "id": "h1aCGP_voigv"
   },
   "source": [
    "Imports"
   ]
  },
  {
   "cell_type": "code",
   "execution_count": null,
   "metadata": {
    "id": "WlOV7_IEoHJ5"
   },
   "outputs": [],
   "source": [
    "import random\n",
    "import numpy as np\n",
    "import matplotlib.pyplot as plt\n",
    "import math\n",
    "\n",
    "data = (np.random.randn(100) * 2 + 30)"
   ]
  },
  {
   "cell_type": "markdown",
   "metadata": {
    "id": "AhsPpE2eoGzi"
   },
   "source": [
    "Binomial example: adapt this code so that it matches the figure in slide 7"
   ]
  },
  {
   "cell_type": "code",
   "execution_count": null,
   "metadata": {
    "colab": {
     "base_uri": "https://localhost:8080/",
     "height": 334
    },
    "id": "ZXsf5SUdkntJ",
    "outputId": "98c1d8ef-df1c-4c92-f9bc-5fe9c6872871"
   },
   "outputs": [],
   "source": [
    "coinflip_outcomes = random.choices([\"heads\",\"tails\"], weights=[50,50], k=5)\n",
    "print (coinflip_outcomes)\n",
    "num_heads = coinflip_outcomes.count(\"heads\")\n",
    "plt.hist(num_heads)\n"
   ]
  },
  {
   "cell_type": "markdown",
   "metadata": {
    "id": "b3wkKJ61rqJ-"
   },
   "source": [
    "Discrete example: Add to this code to recreate the figure in slide 10"
   ]
  },
  {
   "cell_type": "code",
   "execution_count": null,
   "metadata": {
    "colab": {
     "base_uri": "https://localhost:8080/",
     "height": 334
    },
    "id": "kD9-hyijrpZ_",
    "outputId": "572e02b5-b01a-4656-9758-5a9408c22e72"
   },
   "outputs": [],
   "source": [
    "die_roll = random.randint(1,6)\n",
    "print(die_roll)\n",
    "plt.hist(die_roll)"
   ]
  },
  {
   "cell_type": "markdown",
   "metadata": {
    "id": "pn_upkTbvczy"
   },
   "source": [
    "Lottery example: try to recreate the plots on slide 11. \n",
    "Increase the ticket cost and add code to calculate your odds of making a profit"
   ]
  },
  {
   "cell_type": "code",
   "execution_count": null,
   "metadata": {
    "colab": {
     "base_uri": "https://localhost:8080/",
     "height": 421
    },
    "id": "SSHszFqevcNb",
    "outputId": "3c704e42-ebff-4981-998a-90fc6b5a3665"
   },
   "outputs": [],
   "source": [
    "number_of_players = 10\n",
    "number_of_tickets = 5\n",
    "ticket_cost = 0\n",
    "all_outcomes = [None] * number_of_players\n",
    "for i in range(0, number_of_players):\n",
    "    lottery_outcomes = random.choices([0, 5, 20, 100], weights=[84,10,5,1], k=number_of_tickets)\n",
    "    all_outcomes[i] = sum(lottery_outcomes)\n",
    "plt.hist(all_outcomes, bins=50)\n"
   ]
  },
  {
   "cell_type": "markdown",
   "metadata": {
    "id": "3dIcdrDgwEab"
   },
   "source": [
    "Continuous example: try varying the bin size (i.e. decrease the interval) and see what happens"
   ]
  },
  {
   "cell_type": "code",
   "execution_count": null,
   "metadata": {
    "colab": {
     "base_uri": "https://localhost:8080/",
     "height": 265
    },
    "id": "CKD0YpoymzAx",
    "outputId": "c364cbda-6aaa-4cec-cd63-384533922d31"
   },
   "outputs": [],
   "source": [
    "from scipy.stats import norm\n",
    "bin_size = 0.5\n",
    "plt.hist(data, density = True, bins=np.arange(25,36,bin_size))\n",
    "\n",
    "mu, std = norm.fit(data) \n",
    "\n",
    "# Plot the PDF.\n",
    "xmin, xmax = plt.xlim()\n",
    "x = np.linspace(xmin, xmax, 100)\n",
    "p = norm.pdf(x, mu, std)\n",
    "  \n",
    "plt.plot(x, p, 'k', linewidth=2)\n",
    "  \n",
    "plt.show()"
   ]
  },
  {
   "cell_type": "markdown",
   "metadata": {
    "id": "st7ITnrBE62_"
   },
   "source": [
    "Let's dig a little deeper into the marshmallow experiment. First, decide for yourself what the utility function for marshmallows is. For me, it looks something like this:"
   ]
  },
  {
   "cell_type": "code",
   "execution_count": null,
   "metadata": {
    "colab": {
     "base_uri": "https://localhost:8080/",
     "height": 296
    },
    "id": "9XeXZ6Akqy8H",
    "outputId": "e0481d8b-b14a-493b-a806-38d30584b298"
   },
   "outputs": [],
   "source": [
    "def MM_utility(number_of_marshmallows):\n",
    "    if (number_of_marshmallows < 10):\n",
    "        return math.log(number_of_marshmallows,2)\n",
    "    else:\n",
    "        return math.log(number_of_marshmallows,2) - math.pow(number_of_marshmallows - 10, 1.1)\n",
    "\n",
    "MMlist = []\n",
    "for i in range (1,20):\n",
    "    MMlist.append(MM_utility(i))\n",
    "\n",
    "plt.plot(range(1,20),MMlist)\n",
    "plt.xlabel(\"number of marshmallows\")\n",
    "plt.ylabel(\"funpoints\")"
   ]
  },
  {
   "cell_type": "markdown",
   "metadata": {
    "id": "XuICgxoPH_ib"
   },
   "source": [
    "As you can see in this plot, I enjoy 2 marsmallows more than 1, but after 10 marshmallows I start to get nauseous, and after about 13 I regret eating any at all. <br>\n",
    "Try to come up with your own utility function!"
   ]
  },
  {
   "cell_type": "code",
   "execution_count": null,
   "metadata": {
    "id": "Q_GXs0RPIVpx"
   },
   "outputs": [],
   "source": [
    "def MM_utility(number_of_marshmallows):\n",
    "    return 0 #add your code here\n",
    "\n",
    "MMlist = []\n",
    "for i in range (1,20):\n",
    "    MMlist.append(MM_utility(i))\n",
    "\n",
    "plt.plot(range(1,20),MMlist)\n",
    "plt.xlabel(\"number of marshmallows\")\n",
    "plt.ylabel(\"funpoints\")"
   ]
  },
  {
   "cell_type": "markdown",
   "metadata": {
    "id": "a7o45lctIbub"
   },
   "source": [
    "Now lets think about the experiment: In which case is it rational for you to wait, and when is it more rational to simply eat the marshmallow right away? Let's vary the number of marshmallows, the amount of trust you have in the psychologists, and how long you have to wait/how much you hate waiting! Then go back and change your utility function and try again."
   ]
  },
  {
   "cell_type": "code",
   "execution_count": null,
   "metadata": {
    "colab": {
     "base_uri": "https://localhost:8080/"
    },
    "id": "68YxJBXgI3u9",
    "outputId": "ebef742b-cde1-4496-ad39-37858981f5e2"
   },
   "outputs": [],
   "source": [
    "Utility_one_MM = MM_utility(1)\n",
    "\n",
    "amount_of_extra_marshmallows = 1 # try varying this variable.\n",
    "Utility_of_extra_marshmallows = MM_utility(amount_of_extra_marshmallows + 1)\n",
    "trust_level = 0.8 # odds that the experimenter keeps their promise. try varying this variable.\n",
    "\n",
    "waiting_penalty = 1.4 # an arbitrary amount of funpoints. try varying this variable.\n",
    "\n",
    "expected_utility_of_waiting = Utility_of_extra_marshmallows * trust_level - waiting_penalty\n",
    "\n",
    "if (Utility_one_MM > expected_utility_of_waiting):\n",
    "    print(\"eat the marshmallow!\")\n",
    "else:\n",
    "    print(\"have some patience!\")"
   ]
  },
  {
   "cell_type": "markdown",
   "metadata": {
    "id": "FFEbU1i0K-qt"
   },
   "source": [
    "Advanced topics: exploration vs exploitation. In this excercise, we'll play the slot machines and try to find the optimal strategy. Follow the instructions in the comments to recreate the experiment we discussed during the lecture. Then vary the payout schemes and the exploration phase. How are these two concepts related to each other?"
   ]
  },
  {
   "cell_type": "code",
   "execution_count": null,
   "metadata": {
    "colab": {
     "base_uri": "https://localhost:8080/"
    },
    "id": "1uFt8DK9LOZs",
    "outputId": "b01f5ad8-9cb6-4423-ff7a-70cd4d555857"
   },
   "outputs": [],
   "source": [
    "def play_slot_machine(machine_number):\n",
    "    slot_machine_1_payout = 100\n",
    "    slot_machine_1_payout_chance = 0.1 # slot machine 1 gives a 10% chance of winning 100 dollars. Now add 2 more machines!\n",
    "\n",
    "    if (machine_number == 1):\n",
    "        return random.choices([slot_machine_1_payout,0], weights=[slot_machine_1_payout_chance,1 - slot_machine_1_payout_chance], k=1)[0] # add the other 2 machines\n",
    "\n",
    "total_rounds = 1000\n",
    "exploration_rounds_per_machine = 100\n",
    "\n",
    "for i in range(1, exploration_rounds_per_machine):\n",
    "    print(play_slot_machine(1)) # adapt or add to this code to use and store the output of all 3 machines, so you can calculate the average profit of each machine!\n",
    "\n",
    "exploration_phase_profit = 0 # change!\n",
    "\n",
    "best_machine_number = 1 # write logic for this\n",
    "\n",
    "exploitation_phase_profit = 0 # leave this at 0\n",
    "for i in range(1, total_rounds - exploration_rounds_per_machine * 3): # for the remaining rounds, exploit the best machine\n",
    "    exploitation_phase_profit += play_slot_machine(best_machine_number)\n",
    "\n",
    "print(\"total profit is: \" + str(exploration_phase_profit + exploitation_phase_profit))"
   ]
  }
 ],
 "metadata": {
  "colab": {
   "collapsed_sections": [],
   "provenance": []
  },
  "kernelspec": {
   "display_name": "Python 3 (ipykernel)",
   "language": "python",
   "name": "python3"
  },
  "language_info": {
   "codemirror_mode": {
    "name": "ipython",
    "version": 3
   },
   "file_extension": ".py",
   "mimetype": "text/x-python",
   "name": "python",
   "nbconvert_exporter": "python",
   "pygments_lexer": "ipython3",
   "version": "3.8.2"
  }
 },
 "nbformat": 4,
 "nbformat_minor": 4
}
